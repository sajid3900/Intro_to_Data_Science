{
 "cells": [
  {
   "cell_type": "markdown",
   "metadata": {},
   "source": [
    "# The First Part of the Assignment of IDS 2019-2020\n",
    "Document your results as well as the way you obtained them in this jupyter notebook. A seperate report (pdf, word etc.) is _not_ required. However, it is necessary that you provide the python code leading to your results as well as textual answers to the assignment questions in this notebook. *DO NOT CLEAR THE OUTPUT of the notebook your are submitting!* In the cases that the result of an algorithm is pdf, jpg, etc, you should attach the result to this notebook file and refer to that in the text.  \n",
    "\n",
    "Next to the jupyter notebook, submit one zip-file containing all data sets that you are asked to submit. Make sure they are easily identifiable, i.e. use names as requested in the corresponding question.\n",
    "\n",
    "Do not change the general structure of this notebook, but you can add further markdown or code cells to explain your solutions if necessary. In the end, submit this file and your created data sets in moodle.\n",
    "\n",
    "Only <font color=\"red\">one </font> group member should upload your group's solution. *Make sure to include group members' names and matriculation numbers*. If your name and student id are not included in the report, you will not receive any points!\n",
    "\n",
    "\n",
    "Hint 1: While answering the questions, you will get a better and better impression of the given data. However, feel free to compute additional results and vizualizations to motivate the decisions you need to make, for example with respect to modification, simplification or sampling of the data. <font color=\"red\"><b>Ensure that all claims you make are supported by the presented facts!</b></font>\n",
    "\n",
    "Hint 2: <font color=\"red\"><b>Some of the tasks might need some time to run. Take this into account in your planning.</b></font>\n",
    "\n",
    "Hint 3: RWTHonline allows for multiple submissions (each submission overwrites the previous ones). <font color=\"red\"><b>Partial submissions are possible and encouraged. </b></font> This helps in case of technical problems of RWTHonline, which do seldomly happen."
   ]
  },
  {
   "cell_type": "markdown",
   "metadata": {},
   "source": [
    "<font color=\"red\"><b>Student Names and IDs:\n",
    "    1. Shrey Gulati       - 389902\n",
    "    2. Yuchen Tao         - 389901\n",
    "    3. Muhammad Sajid Ali - 391708"
   ]
  },
  {
   "cell_type": "markdown",
   "metadata": {},
   "source": [
    "## Preprocessing of the Dataset (5 points)\n",
    " You should carry out some preprocessing steps before starting the analysis:\n",
    " - Select 90% of 'population_density' dataset by random sampling.\n",
    "     - Use one of the group member's student number as a seed.\n",
    " - Add another column to the dataset:\n",
    "     - Name it 'population_density_categorical'.\n",
    "     - The values in this column depend on values in 'population_density' column and will be defined as follows:\n",
    "        - 5824=<population density              corresponding value in 'population_density_categorical' column: 'very high'\n",
    "        - 4368=<population density<5824         corresponding value in 'population_density_categorical' column: 'high'\n",
    "        - 2912=<population density<4368         corresponding value in 'population_density_categorical' column: 'medium'\n",
    "        - 1456=<population density<2912         corresponding value in 'population_density_categorical' column: 'low' \n",
    "        - population density<1456               corresponding value in 'population_density_categorical' column: 'very low'\n",
    " - After completing this preprocessing step, export your final dataset as 'population_density_categorical.csv' dataset and use that for next steps of the assignment.\n",
    " - If it is not directly mentioned, you should always use your extracted (above-created) dataset (without any cleaning).\n",
    " - <font color='red'>Important!</font> Make sure that you submit your extracted dataset with your result in moodle."
   ]
  },
  {
   "cell_type": "code",
   "execution_count": 2,
   "metadata": {},
   "outputs": [
    {
     "name": "stdout",
     "output_type": "stream",
     "text": [
      "  holiday  temperature  rain_1h  snow_1h  clouds_percentage weather_type  \\\n",
      "0    None       288.28      0.0      0.0                 40       Clouds   \n",
      "1    None       289.36      0.0      0.0                 75       Clouds   \n",
      "2    None       289.58      0.0      0.0                 90       Clouds   \n",
      "3    None       290.13      0.0      0.0                 90       Clouds   \n",
      "4    None       291.14      0.0      0.0                 75       Clouds   \n",
      "\n",
      "  weather_type_details           date_time  population_density  \n",
      "0     scattered clouds 2012-10-02 09:00:00                5545  \n",
      "1        broken clouds 2012-10-02 10:00:00                4516  \n",
      "2      overcast clouds 2012-10-02 11:00:00                4767  \n",
      "3      overcast clouds 2012-10-02 12:00:00                5026  \n",
      "4        broken clouds 2012-10-02 13:00:00                4918  \n"
     ]
    }
   ],
   "source": [
    "import pandas as pd\n",
    "dataf = pd.read_csv('population_density.csv', sep=',', parse_dates=['date_time'])\n",
    "print(dataf[:5]) #printing sample data to see if data is fected correctly\n"
   ]
  },
  {
   "cell_type": "code",
   "execution_count": 3,
   "metadata": {},
   "outputs": [
    {
     "name": "stdout",
     "output_type": "stream",
     "text": [
      "(43384, 9)\n"
     ]
    },
    {
     "data": {
      "text/html": [
       "<div>\n",
       "<style scoped>\n",
       "    .dataframe tbody tr th:only-of-type {\n",
       "        vertical-align: middle;\n",
       "    }\n",
       "\n",
       "    .dataframe tbody tr th {\n",
       "        vertical-align: top;\n",
       "    }\n",
       "\n",
       "    .dataframe thead th {\n",
       "        text-align: right;\n",
       "    }\n",
       "</style>\n",
       "<table border=\"1\" class=\"dataframe\">\n",
       "  <thead>\n",
       "    <tr style=\"text-align: right;\">\n",
       "      <th></th>\n",
       "      <th>holiday</th>\n",
       "      <th>temperature</th>\n",
       "      <th>rain_1h</th>\n",
       "      <th>snow_1h</th>\n",
       "      <th>clouds_percentage</th>\n",
       "      <th>weather_type</th>\n",
       "      <th>weather_type_details</th>\n",
       "      <th>date_time</th>\n",
       "      <th>population_density</th>\n",
       "    </tr>\n",
       "  </thead>\n",
       "  <tbody>\n",
       "    <tr>\n",
       "      <td>0</td>\n",
       "      <td>None</td>\n",
       "      <td>288.28</td>\n",
       "      <td>0.0</td>\n",
       "      <td>0.0</td>\n",
       "      <td>40</td>\n",
       "      <td>Clouds</td>\n",
       "      <td>scattered clouds</td>\n",
       "      <td>2012-10-02 09:00:00</td>\n",
       "      <td>5545</td>\n",
       "    </tr>\n",
       "    <tr>\n",
       "      <td>1</td>\n",
       "      <td>None</td>\n",
       "      <td>289.36</td>\n",
       "      <td>0.0</td>\n",
       "      <td>0.0</td>\n",
       "      <td>75</td>\n",
       "      <td>Clouds</td>\n",
       "      <td>broken clouds</td>\n",
       "      <td>2012-10-02 10:00:00</td>\n",
       "      <td>4516</td>\n",
       "    </tr>\n",
       "    <tr>\n",
       "      <td>2</td>\n",
       "      <td>None</td>\n",
       "      <td>290.13</td>\n",
       "      <td>0.0</td>\n",
       "      <td>0.0</td>\n",
       "      <td>90</td>\n",
       "      <td>Clouds</td>\n",
       "      <td>overcast clouds</td>\n",
       "      <td>2012-10-02 12:00:00</td>\n",
       "      <td>5026</td>\n",
       "    </tr>\n",
       "    <tr>\n",
       "      <td>3</td>\n",
       "      <td>None</td>\n",
       "      <td>291.14</td>\n",
       "      <td>0.0</td>\n",
       "      <td>0.0</td>\n",
       "      <td>75</td>\n",
       "      <td>Clouds</td>\n",
       "      <td>broken clouds</td>\n",
       "      <td>2012-10-02 13:00:00</td>\n",
       "      <td>4918</td>\n",
       "    </tr>\n",
       "    <tr>\n",
       "      <td>4</td>\n",
       "      <td>None</td>\n",
       "      <td>291.72</td>\n",
       "      <td>0.0</td>\n",
       "      <td>0.0</td>\n",
       "      <td>1</td>\n",
       "      <td>Clear</td>\n",
       "      <td>sky is clear</td>\n",
       "      <td>2012-10-02 14:00:00</td>\n",
       "      <td>5181</td>\n",
       "    </tr>\n",
       "  </tbody>\n",
       "</table>\n",
       "</div>"
      ],
      "text/plain": [
       "  holiday  temperature  rain_1h  snow_1h  clouds_percentage weather_type  \\\n",
       "0    None       288.28      0.0      0.0                 40       Clouds   \n",
       "1    None       289.36      0.0      0.0                 75       Clouds   \n",
       "2    None       290.13      0.0      0.0                 90       Clouds   \n",
       "3    None       291.14      0.0      0.0                 75       Clouds   \n",
       "4    None       291.72      0.0      0.0                  1        Clear   \n",
       "\n",
       "  weather_type_details           date_time  population_density  \n",
       "0     scattered clouds 2012-10-02 09:00:00                5545  \n",
       "1        broken clouds 2012-10-02 10:00:00                4516  \n",
       "2      overcast clouds 2012-10-02 12:00:00                5026  \n",
       "3        broken clouds 2012-10-02 13:00:00                4918  \n",
       "4         sky is clear 2012-10-02 14:00:00                5181  "
      ]
     },
     "execution_count": 3,
     "metadata": {},
     "output_type": "execute_result"
    }
   ],
   "source": [
    "m = dataf.shape\n",
    "rows = m[0]\n",
    "cols = m[1]\n",
    "\n",
    "#fetching 90% of data randomly\n",
    "sample = dataf.sample(frac=0.9, replace=False, random_state=389902)\n",
    "#random_state is seed to generate same sample everytime - used Shrey's Matrikelnummer\n",
    "\n",
    "n = sample.shape\n",
    "rows = n[0]\n",
    "print(n)\n",
    "\n",
    "#re-indexing new dataset - NOTE: Date-time can also be used as automatic index, \n",
    "#but is avoided to have an explicit index for easy operations on the data\n",
    "sample.sort_values(by=['date_time'], inplace=True)\n",
    "sample.index = pd.RangeIndex(rows)\n",
    "sample.head()"
   ]
  },
  {
   "cell_type": "code",
   "execution_count": 4,
   "metadata": {},
   "outputs": [],
   "source": [
    "#filling values in the new column\n",
    "\n",
    "# creating a blank series \n",
    "Type_new = [None]*rows \n",
    "\n",
    "# running a for loop and asigning some values to series \n",
    "for i in range(rows): \n",
    "    if sample[\"population_density\"][i] >= 5824: \n",
    "        Type_new[i]=\"very high\"\n",
    "  \n",
    "    elif sample[\"population_density\"][i] >= 4368: \n",
    "        Type_new[i]=\"high\"\n",
    "\n",
    "    elif sample[\"population_density\"][i] >= 2912: \n",
    "        Type_new[i]=\"medium\"\n",
    "\n",
    "    elif sample[\"population_density\"][i] >= 1456: \n",
    "        Type_new[i]=\"low\"\n",
    "\n",
    "    else: \n",
    "        Type_new[i]= \"very low\"\n",
    "                \n"
   ]
  },
  {
   "cell_type": "code",
   "execution_count": 5,
   "metadata": {},
   "outputs": [],
   "source": [
    "#inserting column to generate new dataframe and updating new number of columns\n",
    "sample.insert(cols, \"population_density_categorical\", Type_new , True)\n",
    "cols = cols+1\n"
   ]
  },
  {
   "cell_type": "code",
   "execution_count": 6,
   "metadata": {},
   "outputs": [],
   "source": [
    "#Exporting the created dataset\n",
    "export_csv = sample.to_csv(r'/home/yuchen/Semester_3/Data Science/assignment1_final/population_density_categorical.csv', index = None, header=True)\n"
   ]
  },
  {
   "cell_type": "markdown",
   "metadata": {},
   "source": [
    "## Question 1 - Insights into the Data (20 points):"
   ]
  },
  {
   "cell_type": "markdown",
   "metadata": {},
   "source": [
    "### Dealing with Outliers (10 points)\n",
    "   (a) Use a boxplot to find and remove the outliers from \"temperature\". Note that based on the boxplot the values greater than upper-whisker and less than lower-whisker are considered as the outliers. Now you should  have two datasets (cleaned and original)."
   ]
  },
  {
   "cell_type": "code",
   "execution_count": 7,
   "metadata": {},
   "outputs": [
    {
     "data": {
      "image/png": "[encoded data removed]",
      "text/plain": [
       "<Figure size 432x288 with 1 Axes>"
      ]
     },
     "metadata": {
      "needs_background": "light"
     },
     "output_type": "display_data"
    }
   ],
   "source": [
    "# Your code:\n",
    "import matplotlib as mpl \n",
    "import matplotlib.pyplot as plt \n",
    "import numpy as np\n",
    "\n",
    "T = sample['temperature'].tolist()\n",
    "\n",
    "#finding outliers using boxplot method\n",
    "\n",
    "q1, q3= np.percentile(T,[25,75])\n",
    "iqr = q3 - q1\n",
    "lower_bound = q1 -(1.5 * iqr) \n",
    "upper_bound = q3 +(1.5 * iqr)\n",
    "\n",
    "#Now we will remove all rows with temperature values outside the bounds and the resulting datset is called clean_data\n",
    "clean_data = sample\n",
    "\n",
    "for i in range(rows):\n",
    "    if clean_data[\"temperature\"][i] < lower_bound or clean_data[\"temperature\"][i] > upper_bound:\n",
    "        clean_data = clean_data.drop(i)\n",
    "        \n",
    "cleanT = clean_data['temperature'].tolist()\n",
    "x = clean_data.shape\n",
    "\n",
    "clean_rows = x[0]\n",
    "\n",
    "remove_count = rows - clean_rows\n",
    "\n",
    "plt.boxplot(T)\n",
    "plt.show()\n",
    "\n",
    "\n"
   ]
  },
  {
   "cell_type": "markdown",
   "metadata": {},
   "source": [
    "   (b) Compare basic statistical features of \"temperature\" (median, mean, and mode) in the cleaned and original datasets.    Interpret the differences for these statistical values between the cleaned and original datasets. "
   ]
  },
  {
   "cell_type": "code",
   "execution_count": 8,
   "metadata": {},
   "outputs": [
    {
     "name": "stdout",
     "output_type": "stream",
     "text": [
      "Values for the original dataset:\n",
      "Mean value: 281.2182118522958 ; Median value: 282.51 Mode value: 274.15\n",
      "Values for the cleaned dataset:\n",
      "Mean value: 281.28304751694566 ; Median value: 282.51599999999996 Mode value: 274.15\n"
     ]
    }
   ],
   "source": [
    "# Your code:\n",
    "import statistics as st\n",
    "\n",
    "print('Values for the original dataset:')\n",
    "print (\"Mean value:\",st.mean(T),\"; Median value:\",st.median(T), \"Mode value:\", st.mode(T))\n",
    "\n",
    "print('Values for the cleaned dataset:')\n",
    "print (\"Mean value:\", st.mean(cleanT),\"; Median value:\",st.median(cleanT), \"Mode value:\", st.mode(cleanT))"
   ]
  },
  {
   "cell_type": "markdown",
   "metadata": {},
   "source": [
    "   (c) Compare the number of data rows before and after removing the outliers. How many data rows are removed by removing    outliers?"
   ]
  },
  {
   "cell_type": "code",
   "execution_count": 9,
   "metadata": {},
   "outputs": [
    {
     "name": "stdout",
     "output_type": "stream",
     "text": [
      "The number of data rows before removing outliers:\n",
      "43384\n",
      "The number of data rows after removing outliers:\n",
      "43374\n",
      "Number of data rows removed by removing outliers:\n",
      "10\n"
     ]
    }
   ],
   "source": [
    "# Your code:\n",
    "print('The number of data rows before removing outliers:')\n",
    "print(rows)\n",
    "print('The number of data rows after removing outliers:')\n",
    "print(clean_rows)\n",
    "print('Number of data rows removed by removing outliers:')\n",
    "print(remove_count)"
   ]
  },
  {
   "cell_type": "markdown",
   "metadata": {},
   "source": [
    "### Basic Visualization (10 points)\n",
    "   (d) Visualize mean and median of \"population_density\" for non-'None' \"holiday\" values in the original dataset. Specify    the \"holiday\" values for which the mean of \"population_density\" is maximal and for which it is minimal."
   ]
  },
  {
   "cell_type": "code",
   "execution_count": 10,
   "metadata": {},
   "outputs": [],
   "source": [
    "# Your code:\n",
    "#Fetching only those rows with non-None value in Holiday and storing in vis_data \n",
    "vis_data = sample\n",
    "\n",
    "for i in range(rows):\n",
    "    if vis_data[\"holiday\"][i] == 'None':\n",
    "        vis_data = vis_data.drop(i)\n",
    "        \n",
    "y = vis_data.shape\n",
    "\n",
    "vis_rows = y[0]\n",
    "\n",
    "vis_data.sort_values(by=['holiday'], inplace=True)\n",
    "vis_data.index = pd.RangeIndex(vis_rows)\n",
    "\n",
    "#Optional - export of non-None holiday dataset\n",
    "#export_csv = vis_data.to_csv(r'C:\\Users\\Shrey\\DATA SCIENCE\\Project 1\\holiday_data.csv', index = None, header=True)"
   ]
  },
  {
   "cell_type": "code",
   "execution_count": 11,
   "metadata": {},
   "outputs": [
    {
     "name": "stdout",
     "output_type": "stream",
     "text": [
      "The mean of the filtered population density values is: 866.7857142857143\n",
      "The median of the filtered population density values is: 807.5\n"
     ]
    }
   ],
   "source": [
    "pop_den = vis_data['population_density'].tolist()\n",
    "print('The mean of the filtered population density values is:' , st.mean(pop_den))\n",
    "print('The median of the filtered population density values is:' , st.median(pop_den))"
   ]
  },
  {
   "cell_type": "code",
   "execution_count": 12,
   "metadata": {},
   "outputs": [
    {
     "name": "stdout",
     "output_type": "stream",
     "text": [
      "Maximum mean of population density is 1356.0 which occurs on New Years Day\n",
      "Minimum mean of population density is 519.4 which occurs on Columbus Day \n",
      "\n"
     ]
    },
    {
     "data": {
      "text/plain": [
       "<BarContainer object of 11 artists>"
      ]
     },
     "execution_count": 12,
     "metadata": {},
     "output_type": "execute_result"
    },
    {
     "data": {
      "image/png": "[encoded data removed]",
      "text/plain": [
       "<Figure size 1584x360 with 1 Axes>"
      ]
     },
     "metadata": {
      "needs_background": "light"
     },
     "output_type": "display_data"
    }
   ],
   "source": [
    "#part b - Visualization and Holidays for which mean is maximum and minimum:\n",
    "\n",
    "ref = vis_data[\"holiday\"][0]\n",
    "#sum = 0\n",
    "count = 0\n",
    "pointer = 0\n",
    "means_list = [0]\n",
    "holiday_list = [ref]\n",
    "\n",
    "for i in range(vis_rows):\n",
    "    if vis_data[\"holiday\"][i] == ref:\n",
    "        means_list[pointer] = means_list[pointer] + pop_den[i]\n",
    "        count = count + 1\n",
    "    else:\n",
    "        means_list = means_list + [pop_den[i]]\n",
    "        means_list[pointer] = means_list[pointer]/count\n",
    "        pointer = pointer + 1\n",
    "        ref = vis_data[\"holiday\"][i]\n",
    "        holiday_list = holiday_list + [ref]\n",
    "        count = 1\n",
    "        #sum = pop_den[i]\n",
    "        \n",
    "means_list[pointer] = means_list[pointer]/count\n",
    "\n",
    "#Optional - for verification\n",
    "#print('\\n',means_list)\n",
    "#print(holiday_list, '\\n\\n')\n",
    "\n",
    "\n",
    "\n",
    "#now finding min and max of the population density mean and the corresponding holidays\n",
    "x = len(means_list)\n",
    "max_index = 0\n",
    "min_index = 0\n",
    "\n",
    "for i in range(x):\n",
    "    if means_list[i] > means_list[max_index]:\n",
    "        max_index = i\n",
    "    if means_list[i] < means_list[min_index]:\n",
    "        min_index = i\n",
    "\n",
    "print('Maximum mean of population density is' , means_list[max_index] , 'which occurs on' , holiday_list[max_index])\n",
    "print('Minimum mean of population density is' , means_list[min_index] , 'which occurs on' , holiday_list[min_index],'\\n')\n",
    "\n",
    "fig= plt.figure(figsize=(22,5))\n",
    "plt.title('Means of population density for holidays')\n",
    "plt.ylabel('Mean of population density')\n",
    "plt.bar(holiday_list, means_list)"
   ]
  },
  {
   "cell_type": "markdown",
   "metadata": {},
   "source": [
    "   (e) Plot the distribution of \"temperature\" in the original and cleaned datasets."
   ]
  },
  {
   "cell_type": "code",
   "execution_count": 13,
   "metadata": {},
   "outputs": [
    {
     "data": {
      "image/png": "[encoded data removed]",
      "text/plain": [
       "<Figure size 1080x720 with 1 Axes>"
      ]
     },
     "metadata": {
      "needs_background": "light"
     },
     "output_type": "display_data"
    }
   ],
   "source": [
    "# Your code:\n",
    "fig= plt.figure(figsize=(15,10))\n",
    "legend = ['Original Dataset', 'Cleaned Dataset']\n",
    "plt.hist([T, cleanT], color=['red', 'blue'], bins = 50)\n",
    "plt.xlabel(\"Temperature\")\n",
    "plt.ylabel(\"Frequency\")\n",
    "plt.legend(legend)\n",
    "plt.title('Comparison of temperature distribution in original and cleaned datasets')\n",
    "plt.show()"
   ]
  },
  {
   "cell_type": "markdown",
   "metadata": {},
   "source": [
    "   (f) Explore the distribution of \"population_density\" and \"temperature\" together in the cleaned dataset. Specify the ranges of \"temperature\" and \"population_density\" for which the frequency of the data is the highest."
   ]
  },
  {
   "cell_type": "code",
   "execution_count": 14,
   "metadata": {},
   "outputs": [
    {
     "data": {
      "image/png": "[encoded data removed]",
      "text/plain": [
       "<Figure size 432x432 with 3 Axes>"
      ]
     },
     "metadata": {
      "needs_background": "light"
     },
     "output_type": "display_data"
    },
    {
     "data": {
      "image/png": "[encoded data removed]",
      "text/plain": [
       "<Figure size 1080x720 with 1 Axes>"
      ]
     },
     "metadata": {
      "needs_background": "light"
     },
     "output_type": "display_data"
    },
    {
     "name": "stdout",
     "output_type": "stream",
     "text": [
      "The range of highest frequency of data is for population density from 364.0 to 728.0 . This range changes as we change the number/width of bins.\n"
     ]
    },
    {
     "data": {
      "image/png": "[encoded data removed]",
      "text/plain": [
       "<Figure size 1080x720 with 1 Axes>"
      ]
     },
     "metadata": {
      "needs_background": "light"
     },
     "output_type": "display_data"
    },
    {
     "name": "stdout",
     "output_type": "stream",
     "text": [
      "The range of highest frequency of data is for Temperature from 290.066 to 293.4 . This range changes as we change the number/width of bins.\n"
     ]
    }
   ],
   "source": [
    "# Your code:\n",
    "import seaborn as sns\n",
    "sns.jointplot(x=\"population_density\",y=\"temperature\",data=clean_data,kind=\"kde\")\n",
    "popclean = clean_data['population_density'].tolist()\n",
    "fig= plt.figure(figsize=(15,10))\n",
    "y, x, _ = plt.hist(popclean, color='red', bins = 20)\n",
    "plt.xlabel(\"Population Density\")\n",
    "plt.ylabel(\"Frequency\")\n",
    "plt.title('Analysis of Population density and Temperature in the cleaned dataset')\n",
    "plt.show()\n",
    "\n",
    "x = list(x)\n",
    "y = list(y)\n",
    "\n",
    "ymax = max(y)\n",
    "maxpos= y.index(ymax)\n",
    "print (\"The range of highest frequency of data is for population density from\", x[maxpos], \"to\", x[maxpos+1],\". This range changes as we change the number/width of bins.\")\n",
    "\n",
    "fig= plt.figure(figsize=(15,10))\n",
    "y, x, _ = plt.hist(cleanT, color='blue', bins = 20)\n",
    "plt.xlabel(\"Temperature\")\n",
    "plt.ylabel(\"Frequency\")\n",
    "plt.title('Analysis of Population density and Temperature in the cleaned dataset')\n",
    "plt.show()\n",
    "\n",
    "x = list(x)\n",
    "y = list(y)\n",
    "\n",
    "ymax = max(y)\n",
    "maxpos= y.index(ymax)\n",
    "print (\"The range of highest frequency of data is for Temperature from\", x[maxpos], \"to\", x[maxpos+1],\". This range changes as we change the number/width of bins.\")\n",
    "\n"
   ]
  },
  {
   "cell_type": "markdown",
   "metadata": {},
   "source": [
    "## Question 2 - Decision Trees (15 points):"
   ]
  },
  {
   "cell_type": "markdown",
   "metadata": {},
   "source": [
    "   (a) Add a categorical temperature column to the cleaned dataset based on the following rules and name it                \"temperature_categorical\":\n",
    "        - temperature >= upper_quartile (third quartile) corresponding value in 'temperature_categorical' column: 'high'\n",
    "        - temperature <= lower_quartile (first quartile) corresponding value in 'temperature_categorical' column: 'low'\n",
    "        - lower_quartile < temperature < upper_quartile corresponding value in 'temperature_categorical' column: 'medium'"
   ]
  },
  {
   "cell_type": "code",
   "execution_count": 15,
   "metadata": {},
   "outputs": [
    {
     "data": {
      "text/html": [
       "<div>\n",
       "<style scoped>\n",
       "    .dataframe tbody tr th:only-of-type {\n",
       "        vertical-align: middle;\n",
       "    }\n",
       "\n",
       "    .dataframe tbody tr th {\n",
       "        vertical-align: top;\n",
       "    }\n",
       "\n",
       "    .dataframe thead th {\n",
       "        text-align: right;\n",
       "    }\n",
       "</style>\n",
       "<table border=\"1\" class=\"dataframe\">\n",
       "  <thead>\n",
       "    <tr style=\"text-align: right;\">\n",
       "      <th></th>\n",
       "      <th>holiday</th>\n",
       "      <th>temperature</th>\n",
       "      <th>rain_1h</th>\n",
       "      <th>snow_1h</th>\n",
       "      <th>clouds_percentage</th>\n",
       "      <th>weather_type</th>\n",
       "      <th>weather_type_details</th>\n",
       "      <th>date_time</th>\n",
       "      <th>population_density</th>\n",
       "      <th>population_density_categorical</th>\n",
       "      <th>temperature_categorical</th>\n",
       "    </tr>\n",
       "  </thead>\n",
       "  <tbody>\n",
       "    <tr>\n",
       "      <th>0</th>\n",
       "      <td>None</td>\n",
       "      <td>288.28</td>\n",
       "      <td>0.0</td>\n",
       "      <td>0.0</td>\n",
       "      <td>40</td>\n",
       "      <td>Clouds</td>\n",
       "      <td>scattered clouds</td>\n",
       "      <td>2012-10-02 09:00:00</td>\n",
       "      <td>5545</td>\n",
       "      <td>high</td>\n",
       "      <td>medium</td>\n",
       "    </tr>\n",
       "    <tr>\n",
       "      <th>1</th>\n",
       "      <td>None</td>\n",
       "      <td>289.36</td>\n",
       "      <td>0.0</td>\n",
       "      <td>0.0</td>\n",
       "      <td>75</td>\n",
       "      <td>Clouds</td>\n",
       "      <td>broken clouds</td>\n",
       "      <td>2012-10-02 10:00:00</td>\n",
       "      <td>4516</td>\n",
       "      <td>high</td>\n",
       "      <td>medium</td>\n",
       "    </tr>\n",
       "    <tr>\n",
       "      <th>2</th>\n",
       "      <td>None</td>\n",
       "      <td>290.13</td>\n",
       "      <td>0.0</td>\n",
       "      <td>0.0</td>\n",
       "      <td>90</td>\n",
       "      <td>Clouds</td>\n",
       "      <td>overcast clouds</td>\n",
       "      <td>2012-10-02 12:00:00</td>\n",
       "      <td>5026</td>\n",
       "      <td>high</td>\n",
       "      <td>medium</td>\n",
       "    </tr>\n",
       "    <tr>\n",
       "      <th>3</th>\n",
       "      <td>None</td>\n",
       "      <td>291.14</td>\n",
       "      <td>0.0</td>\n",
       "      <td>0.0</td>\n",
       "      <td>75</td>\n",
       "      <td>Clouds</td>\n",
       "      <td>broken clouds</td>\n",
       "      <td>2012-10-02 13:00:00</td>\n",
       "      <td>4918</td>\n",
       "      <td>high</td>\n",
       "      <td>medium</td>\n",
       "    </tr>\n",
       "    <tr>\n",
       "      <th>4</th>\n",
       "      <td>None</td>\n",
       "      <td>291.72</td>\n",
       "      <td>0.0</td>\n",
       "      <td>0.0</td>\n",
       "      <td>1</td>\n",
       "      <td>Clear</td>\n",
       "      <td>sky is clear</td>\n",
       "      <td>2012-10-02 14:00:00</td>\n",
       "      <td>5181</td>\n",
       "      <td>high</td>\n",
       "      <td>medium</td>\n",
       "    </tr>\n",
       "  </tbody>\n",
       "</table>\n",
       "</div>"
      ],
      "text/plain": [
       "  holiday  temperature  rain_1h  snow_1h  clouds_percentage weather_type  \\\n",
       "0    None       288.28      0.0      0.0                 40       Clouds   \n",
       "1    None       289.36      0.0      0.0                 75       Clouds   \n",
       "2    None       290.13      0.0      0.0                 90       Clouds   \n",
       "3    None       291.14      0.0      0.0                 75       Clouds   \n",
       "4    None       291.72      0.0      0.0                  1        Clear   \n",
       "\n",
       "  weather_type_details           date_time  population_density  \\\n",
       "0     scattered clouds 2012-10-02 09:00:00                5545   \n",
       "1        broken clouds 2012-10-02 10:00:00                4516   \n",
       "2      overcast clouds 2012-10-02 12:00:00                5026   \n",
       "3        broken clouds 2012-10-02 13:00:00                4918   \n",
       "4         sky is clear 2012-10-02 14:00:00                5181   \n",
       "\n",
       "  population_density_categorical temperature_categorical  \n",
       "0                           high                  medium  \n",
       "1                           high                  medium  \n",
       "2                           high                  medium  \n",
       "3                           high                  medium  \n",
       "4                           high                  medium  "
      ]
     },
     "execution_count": 15,
     "metadata": {},
     "output_type": "execute_result"
    }
   ],
   "source": [
    "# Your code:\n",
    "#filling values in the new column\n",
    "\n",
    "#Reindexing clean data\n",
    "clean_data.sort_values(by=['date_time'], inplace=True)\n",
    "clean_data.index = pd.RangeIndex(clean_rows)\n",
    "\n",
    "# creating a blank series \n",
    "Type_new = [None]*clean_rows \n",
    "\n",
    "# running a for loop and asigning some values to series \n",
    "for i in range(clean_rows): \n",
    "    if clean_data[\"temperature\"][i] >= q3: \n",
    "        Type_new[i]=\"high\"\n",
    "  \n",
    "    elif sample[\"temperature\"][i] > q1: \n",
    "        Type_new[i]=\"medium\"\n",
    "\n",
    "    else: \n",
    "        Type_new[i]= \"low\"\n",
    "\n",
    "clean_data.insert(cols, \"temperature_categorical\", Type_new , True)\n",
    "cols = cols+1\n",
    "clean_data.head()\n",
    "\n",
    "#OPTIONAL - Exporting the created dataset for cross-checking\n",
    "#export_csv = clean_data.to_csv(r'C:\\Users\\Shrey\\DATA SCIENCE\\Project 1\\temp_categorical.csv', index = None, header=True)"
   ]
  },
  {
   "cell_type": "markdown",
   "metadata": {},
   "source": [
    "   (b) In the new dataset (created in Section 'a'), consider \"holiday\", \"temperature_categorical\", and \"weather_type\" as    the descriptive features and \"population_density_categorical\" as the target feature. Set the minimum number of samples  for splitting to 5000 and make a decision tree based on entropy."
   ]
  },
  {
   "cell_type": "code",
   "execution_count": 16,
   "metadata": {},
   "outputs": [
    {
     "name": "stdout",
     "output_type": "stream",
     "text": [
      "descriptive features:\n",
      "['holiday', 'weather_type', 'temperature_categorical']\n",
      "\n",
      "target feature:\n",
      "population_density_categorical\n"
     ]
    }
   ],
   "source": [
    "# Your code:\n",
    "from p_decision_tree.DecisionTree import DecisionTree\n",
    "columns = clean_data.columns\n",
    "\n",
    "descriptive_features = ['holiday','weather_type','temperature_categorical']\n",
    "label = 'population_density_categorical'\n",
    "\n",
    "#Converting all the columns to string\n",
    "for column in columns:\n",
    "    clean_data[column]= clean_data[column].astype(str)\n",
    "\n",
    "data_descriptive = clean_data[descriptive_features].values\n",
    "data_label = clean_data[label].values\n",
    "\n",
    "print(\"descriptive features:\")\n",
    "print(descriptive_features)\n",
    "print(\"\\ntarget feature:\\n\" + label)"
   ]
  },
  {
   "cell_type": "code",
   "execution_count": 17,
   "metadata": {},
   "outputs": [
    {
     "name": "stdout",
     "output_type": "stream",
     "text": [
      "System entropy:  2.2305299175224835\n"
     ]
    }
   ],
   "source": [
    "#Calling DecisionTree constructor\n",
    "decisionTree = DecisionTree(data_descriptive, descriptive_features, data_label.tolist(), \"entropy\")\n",
    "\n",
    "#Pruning features (gain_threshold and minimum_samples)\n",
    "decisionTree.id3(0.002,5000)\n",
    "\n",
    "#Visualizing decision tree by Graphviz\n",
    "dot = decisionTree.print_visualTree( render=True )\n",
    "\n",
    "#print(dot)\n",
    "\n",
    "print(\"System entropy: \", format(decisionTree.entropy))"
   ]
  },
  {
   "cell_type": "markdown",
   "metadata": {},
   "source": [
    "   (c) What is the best attribute (based on entropy) for splitting the tree in the second round of ID3?  "
   ]
  },
  {
   "cell_type": "markdown",
   "metadata": {},
   "source": [
    "Explanation: We observe that for the 1st round, categorical temperature has the maximum information gain as per the entropy criterion, thus making the top level of the decision tree. In the 2nd level, higher information gain is clearly in the case of weather_type, and also the holiday criterion forms a significant 3rd level only in the specific case of medium temperature and clouds weather_type.\n",
    "Note that we also see an additional 3rd level partition basis holiday for medium temperature and clear weather type since the minimum sample criterion is fulfilled and information gain threshold is low.\n"
   ]
  },
  {
   "cell_type": "markdown",
   "metadata": {},
   "source": [
    "## Question 3 - Regression (10 points):\n",
    "\n",
    "For this question (Q3), restrict your extracted data set to the columns *holiday, temperature, rain_1h, snow_1h, clouds_percentage, date_time* and *population_density*. Drop the information on the date for *date_time* and restrict the data to time values (hour) only.\n",
    "\n",
    "We define *population_density* to be our target feature, while all other features are considered descriptive."
   ]
  },
  {
   "cell_type": "code",
   "execution_count": 18,
   "metadata": {},
   "outputs": [],
   "source": [
    "# Your code:\n",
    "sample_Reg = sample.drop(['weather_type','weather_type_details','population_density_categorical'],axis=1)\n",
    "sample_Reg['date_time'] = pd.to_datetime(sample_Reg['date_time']).dt.hour"
   ]
  },
  {
   "cell_type": "markdown",
   "metadata": {},
   "source": [
    "   (a) Which features are suitable as an input for linear regression and which need to be modified first? Why?"
   ]
  },
  {
   "cell_type": "markdown",
   "metadata": {},
   "source": [
    "Explanation:\n",
    "temperature, rain_1h, snow_1h, clouds_percentage, date_time and population_density are suitable as input for linear regression, and holiday should be modified first because it is categorical descriptive feature. The regression function can only handle numerical input."
   ]
  },
  {
   "cell_type": "markdown",
   "metadata": {},
   "source": [
    "   (b) Implement and briefly motivate an adequate modification. Print the resulting data set limited to the first two data rows."
   ]
  },
  {
   "cell_type": "markdown",
   "metadata": {},
   "source": [
    "Explanation:\n",
    "Here we present the get_dummies function of pandas to change the cataorical descriptive feature to 0 or 1(nummerical features)."
   ]
  },
  {
   "cell_type": "code",
   "execution_count": 19,
   "metadata": {},
   "outputs": [
    {
     "data": {
      "text/html": [
       "<div>\n",
       "<style scoped>\n",
       "    .dataframe tbody tr th:only-of-type {\n",
       "        vertical-align: middle;\n",
       "    }\n",
       "\n",
       "    .dataframe tbody tr th {\n",
       "        vertical-align: top;\n",
       "    }\n",
       "\n",
       "    .dataframe thead th {\n",
       "        text-align: right;\n",
       "    }\n",
       "</style>\n",
       "<table border=\"1\" class=\"dataframe\">\n",
       "  <thead>\n",
       "    <tr style=\"text-align: right;\">\n",
       "      <th></th>\n",
       "      <th>temperature</th>\n",
       "      <th>rain_1h</th>\n",
       "      <th>snow_1h</th>\n",
       "      <th>clouds_percentage</th>\n",
       "      <th>date_time</th>\n",
       "      <th>population_density</th>\n",
       "      <th>holiday_Christmas Day</th>\n",
       "      <th>holiday_Columbus Day</th>\n",
       "      <th>holiday_Independence Day</th>\n",
       "      <th>holiday_Labor Day</th>\n",
       "      <th>holiday_Martin Luther King Jr Day</th>\n",
       "      <th>holiday_Memorial Day</th>\n",
       "      <th>holiday_New Years Day</th>\n",
       "      <th>holiday_None</th>\n",
       "      <th>holiday_State Fair</th>\n",
       "      <th>holiday_Thanksgiving Day</th>\n",
       "      <th>holiday_Veterans Day</th>\n",
       "      <th>holiday_Washingtons Birthday</th>\n",
       "    </tr>\n",
       "  </thead>\n",
       "  <tbody>\n",
       "    <tr>\n",
       "      <th>0</th>\n",
       "      <td>288.28</td>\n",
       "      <td>0.0</td>\n",
       "      <td>0.0</td>\n",
       "      <td>40</td>\n",
       "      <td>9</td>\n",
       "      <td>5545</td>\n",
       "      <td>0</td>\n",
       "      <td>0</td>\n",
       "      <td>0</td>\n",
       "      <td>0</td>\n",
       "      <td>0</td>\n",
       "      <td>0</td>\n",
       "      <td>0</td>\n",
       "      <td>1</td>\n",
       "      <td>0</td>\n",
       "      <td>0</td>\n",
       "      <td>0</td>\n",
       "      <td>0</td>\n",
       "    </tr>\n",
       "    <tr>\n",
       "      <th>1</th>\n",
       "      <td>289.36</td>\n",
       "      <td>0.0</td>\n",
       "      <td>0.0</td>\n",
       "      <td>75</td>\n",
       "      <td>10</td>\n",
       "      <td>4516</td>\n",
       "      <td>0</td>\n",
       "      <td>0</td>\n",
       "      <td>0</td>\n",
       "      <td>0</td>\n",
       "      <td>0</td>\n",
       "      <td>0</td>\n",
       "      <td>0</td>\n",
       "      <td>1</td>\n",
       "      <td>0</td>\n",
       "      <td>0</td>\n",
       "      <td>0</td>\n",
       "      <td>0</td>\n",
       "    </tr>\n",
       "  </tbody>\n",
       "</table>\n",
       "</div>"
      ],
      "text/plain": [
       "   temperature  rain_1h  snow_1h  clouds_percentage  date_time  \\\n",
       "0       288.28      0.0      0.0                 40          9   \n",
       "1       289.36      0.0      0.0                 75         10   \n",
       "\n",
       "   population_density  holiday_Christmas Day  holiday_Columbus Day  \\\n",
       "0                5545                      0                     0   \n",
       "1                4516                      0                     0   \n",
       "\n",
       "   holiday_Independence Day  holiday_Labor Day  \\\n",
       "0                         0                  0   \n",
       "1                         0                  0   \n",
       "\n",
       "   holiday_Martin Luther King Jr Day  holiday_Memorial Day  \\\n",
       "0                                  0                     0   \n",
       "1                                  0                     0   \n",
       "\n",
       "   holiday_New Years Day  holiday_None  holiday_State Fair  \\\n",
       "0                      0             1                   0   \n",
       "1                      0             1                   0   \n",
       "\n",
       "   holiday_Thanksgiving Day  holiday_Veterans Day  \\\n",
       "0                         0                     0   \n",
       "1                         0                     0   \n",
       "\n",
       "   holiday_Washingtons Birthday  \n",
       "0                             0  \n",
       "1                             0  "
      ]
     },
     "execution_count": 19,
     "metadata": {},
     "output_type": "execute_result"
    }
   ],
   "source": [
    "# Your code:\n",
    "sample_Reg_one_hot = pd.get_dummies(sample_Reg,columns=['holiday'])\n",
    "sample_Reg_one_hot[:2]"
   ]
  },
  {
   "cell_type": "markdown",
   "metadata": {},
   "source": [
    "(c) To get a first idea about our data, plot the behaviour of the target feature (population_density) over time (date_time)."
   ]
  },
  {
   "cell_type": "code",
   "execution_count": 20,
   "metadata": {},
   "outputs": [
    {
     "data": {
      "text/plain": [
       "<seaborn.axisgrid.JointGrid at 0x7f5c7d80ae80>"
      ]
     },
     "execution_count": 20,
     "metadata": {},
     "output_type": "execute_result"
    },
    {
     "data": {
      "image/png": "[encoded data removed]",
      "text/plain": [
       "<Figure size 432x432 with 3 Axes>"
      ]
     },
     "metadata": {
      "needs_background": "light"
     },
     "output_type": "display_data"
    }
   ],
   "source": [
    "# Your code:\n",
    "import seaborn as sns\n",
    "sns.jointplot(sample_Reg_one_hot['date_time'],sample_Reg_one_hot['population_density'])"
   ]
  },
  {
   "cell_type": "markdown",
   "metadata": {},
   "source": [
    "   (d) Create two distinct subsets of the data. Use sampling methods as described in the lecture. You should end up with two DIFFERENT sample data sets *RegA, RegB*. Include these data sets in the submitted data set zip file. \n",
    "   \n",
    "   Which sampling methods did you choose and why? Which one do you expect to result in a better classifier?"
   ]
  },
  {
   "cell_type": "code",
   "execution_count": 21,
   "metadata": {},
   "outputs": [],
   "source": [
    "# Your code:\n",
    "RegA = sample_Reg_one_hot.groupby('temperature', group_keys=False).apply(lambda x: x.sample(min(len(x), 1)))\n",
    "RegB = sample_Reg_one_hot.sample(n=5772)\n",
    "RegA.to_csv(r'/home/yuchen/Semester_3/Data Science/assignment1_final/RegA.csv', index = None, header=True)\n",
    "RegB.to_csv(r'/home/yuchen/Semester_3/Data Science/assignment1_final/RegB.csv', index = None, header=True)"
   ]
  },
  {
   "cell_type": "markdown",
   "metadata": {},
   "source": [
    "Explanation:RegA used stratified sampling, RegB used random sampling. Stratified sampling ensured that the relative frequencies are maintained. Random sampling is simple, and each individual has the same probability of being chosen. The classifier trained using RegA should be a better classifier.\n"
   ]
  },
  {
   "cell_type": "markdown",
   "metadata": {},
   "source": [
    "   (e) Train a linear regression classifier based on each of the two sample data sets *RegA, RegB* created before."
   ]
  },
  {
   "cell_type": "code",
   "execution_count": 22,
   "metadata": {},
   "outputs": [],
   "source": [
    "# Your code:\n",
    "from sklearn.linear_model import LinearRegression\n",
    "features = RegA.columns.tolist()\n",
    "features.remove('population_density') #we use all descriptive features, but not the target feature\n",
    "x1 = RegA[features]\n",
    "y1 = RegA['population_density']\n",
    "# classifier1 = LogisticRegression( solver = 'liblinear', multi_class = 'ovr')\n",
    "classifier1 = LinearRegression()\n",
    "classifier1.fit(x1, y1)\n",
    "y_pred1 = classifier1.predict(x1)\n",
    "x2 = RegB[features]\n",
    "y2 = RegB['population_density']\n",
    "# classifier2 = LogisticRegression( solver = 'liblinear', multi_class = 'ovr')\n",
    "classifier2 = LinearRegression()\n",
    "classifier2.fit(x2, y2)\n",
    "y_pred2 = classifier2.predict(x2)\n"
   ]
  },
  {
   "cell_type": "markdown",
   "metadata": {},
   "source": [
    "(f) Visualize both computed regression functions in one plot each, combined with the original data set. For example, you can show a plot similar to 3(c) and insert the regression functions result."
   ]
  },
  {
   "cell_type": "code",
   "execution_count": 52,
   "metadata": {},
   "outputs": [
    {
     "data": {
      "text/plain": [
       "<matplotlib.collections.PathCollection at 0x7f5c7fc67048>"
      ]
     },
     "execution_count": 52,
     "metadata": {},
     "output_type": "execute_result"
    },
    {
     "data": {
      "image/png": "[encoded data removed]",
      "text/plain": [
       "<Figure size 432x288 with 1 Axes>"
      ]
     },
     "metadata": {
      "needs_background": "light"
     },
     "output_type": "display_data"
    }
   ],
   "source": [
    "# Your code:\n",
    "plt.scatter(sample_Reg_one_hot['date_time'],sample_Reg_one_hot['population_density'],color='b')\n",
    "plt.xlabel(\"date_time\")\n",
    "plt.ylabel(\"population_density\")\n",
    "plt.scatter(x1[['date_time']],y_pred1,color='r')\n",
    "plt.scatter(x2[['date_time']],y_pred2,color='g')\n"
   ]
  },
  {
   "cell_type": "markdown",
   "metadata": {},
   "source": [
    "   (g) For each of the two resulting models compute and print the mean squared error, mean absolute error and median squared error with respect to the original, non-sampled data set. Also, present plots showing the errors and squared errors."
   ]
  },
  {
   "cell_type": "code",
   "execution_count": 24,
   "metadata": {},
   "outputs": [
    {
     "name": "stdout",
     "output_type": "stream",
     "text": [
      "Mean squared error for RegA:\n",
      "3304304.1376959016\n",
      "Mean absolute error for RegA:\n",
      "1594.5043167272913\n",
      "Median absolute error for RegA:\n",
      "1591.5030450472464\n",
      "Median squared error for RegA:\n",
      "19072443482.780743\n",
      "Mean squared error for RegB:\n",
      "3429136.850444474\n",
      "Mean absolute error for RegB:\n",
      "1635.3545479650893\n",
      "Median absolute error for RegB:\n",
      "1624.1186112851574\n",
      "Median squared error for RegB:\n",
      "19792977900.765503\n"
     ]
    },
    {
     "data": {
      "image/png": "[encoded data removed]",
      "text/plain": [
       "<Figure size 432x288 with 1 Axes>"
      ]
     },
     "metadata": {
      "needs_background": "light"
     },
     "output_type": "display_data"
    },
    {
     "data": {
      "image/png": "[encoded data removed]",
      "text/plain": [
       "<Figure size 432x288 with 1 Axes>"
      ]
     },
     "metadata": {
      "needs_background": "light"
     },
     "output_type": "display_data"
    },
    {
     "data": {
      "image/png": "[encoded data removed]",
      "text/plain": [
       "<Figure size 432x288 with 1 Axes>"
      ]
     },
     "metadata": {
      "needs_background": "light"
     },
     "output_type": "display_data"
    },
    {
     "data": {
      "image/png": "[encoded data removed]",
      "text/plain": [
       "<Figure size 432x288 with 1 Axes>"
      ]
     },
     "metadata": {
      "needs_background": "light"
     },
     "output_type": "display_data"
    }
   ],
   "source": [
    "# Your code:\n",
    "from sklearn.metrics import mean_squared_error, mean_absolute_error, median_absolute_error\n",
    "import numpy as np\n",
    "print(\"Mean squared error for RegA:\")\n",
    "print(mean_squared_error(y1, y_pred1))\n",
    "print(\"Mean absolute error for RegA:\")\n",
    "print(mean_absolute_error(y1, y_pred1))\n",
    "print(\"Median absolute error for RegA:\")\n",
    "print(median_absolute_error(y1, y_pred1))\n",
    "print(\"Median squared error for RegA:\")\n",
    "print(np.median(mean_squared_error(y1, y_pred1)*y1.shape[0])) #We do not know what median squared error is\n",
    "print(\"Mean squared error for RegB:\")\n",
    "print(mean_squared_error(y2, y_pred2))\n",
    "print(\"Mean absolute error for RegB:\")\n",
    "print(mean_absolute_error(y2, y_pred2))\n",
    "print(\"Median absolute error for RegB:\")\n",
    "print(median_absolute_error(y2, y_pred2))\n",
    "print(\"Median squared error for RegB:\")\n",
    "print(np.median(mean_squared_error(y2, y_pred2)*y2.shape[0]))\n",
    "\n",
    "plt.scatter(y_pred1, y1 - y_pred1, color = \"blue\", s = 10,) \n",
    "plt.title(\"Errors for RegA\")\n",
    "## plotting line for zero error \n",
    "plt.hlines(y = 0, xmin = 0, xmax = 6000, linewidth = 2) \n",
    "plt.xlabel('predicted values')\n",
    "plt.ylabel('error')\n",
    "plt.show()\n",
    "\n",
    "plt.scatter(y_pred1, (y1 - y_pred1) ** 2, color = \"blue\", s = 10,) \n",
    "plt.title(\"Squared errors for RegA\")\n",
    "## plotting line for zero error \n",
    "plt.hlines(y = 0, xmin = 0, xmax = 6000, linewidth = 2) \n",
    "plt.xlabel('predicted values')\n",
    "plt.ylabel('squared error')\n",
    "plt.show()\n",
    "\n",
    "plt.scatter(y_pred2, y2 - y_pred2, color = \"blue\", s = 10,) \n",
    "plt.title(\"Errors for RegB\")\n",
    "## plotting line for zero error \n",
    "plt.hlines(y = 0, xmin = 0, xmax = 6000, linewidth = 2) \n",
    "plt.xlabel('predicted values')\n",
    "plt.ylabel('error')\n",
    "plt.show()\n",
    "\n",
    "plt.scatter(y_pred2, (y2 - y_pred2) ** 2, color = \"blue\", s = 10,) \n",
    "plt.title(\"Squared errors for RegB\")\n",
    "## plotting line for zero error \n",
    "plt.hlines(y = 0, xmin = 0, xmax = 6000, linewidth = 2) \n",
    "plt.xlabel('predicted values')\n",
    "plt.ylabel('squared error')\n",
    "plt.show()"
   ]
  },
  {
   "cell_type": "markdown",
   "metadata": {},
   "source": [
    "   (h) Interpret and evaluate the two models and compare them. Why are they similar/different? Which model do you recommend and why? How do you think the applied methods could be improved to get better results?"
   ]
  },
  {
   "cell_type": "markdown",
   "metadata": {},
   "source": [
    "Explanation:The two models do not behave very well, but the results are similiar. Since the two models all used linear regression, the only difference is the sampling method. Based on a big dataset, both random sampling and stratified sampling can get good samples. However, we can see from the plot that the date_time and population_density data do not have a linear relationship. To get better results we can apply other classifiers. I tried LogisticRegression with liblinear library, and I got much better result.\n"
   ]
  },
  {
   "cell_type": "markdown",
   "metadata": {},
   "source": [
    "## Question 4 - Support Vector Machines (10 points):\n",
    "\n",
    "For this question (Q4), restrict your extracted data set to the columns *holiday, temperature, rain_1h, snow_1h, clouds_percentage, date_time* and *population_density_categorical*. For *date_time*, drop the information on the date and restrict the data to time values only.\n",
    "We define *population_density_categorical* to be our target feature, while all other features are considered descriptive.\n"
   ]
  },
  {
   "cell_type": "code",
   "execution_count": 26,
   "metadata": {},
   "outputs": [
    {
     "name": "stdout",
     "output_type": "stream",
     "text": [
      "  holiday  temperature  rain_1h  snow_1h  clouds_percentage  date_time  \\\n",
      "0    None       288.28      0.0      0.0                 40          9   \n",
      "1    None       289.36      0.0      0.0                 75         10   \n",
      "2    None       290.13      0.0      0.0                 90         12   \n",
      "3    None       291.14      0.0      0.0                 75         13   \n",
      "4    None       291.72      0.0      0.0                  1         14   \n",
      "\n",
      "  population_density_categorical  \n",
      "0                           high  \n",
      "1                           high  \n",
      "2                           high  \n",
      "3                           high  \n",
      "4                           high  \n"
     ]
    }
   ],
   "source": [
    "# Your code:\n",
    "sample_SVM = sample.drop(['weather_type','weather_type_details','population_density'],axis=1)\n",
    "sample_SVM['date_time'] = pd.to_datetime(sample_SVM['date_time']).dt.hour\n",
    "print(sample_SVM[:5])"
   ]
  },
  {
   "cell_type": "markdown",
   "metadata": {},
   "source": [
    "   (a) Which features are suitable as an input for SVM and which need to be modified first? Modify the data as needed and provide a brief explanation."
   ]
  },
  {
   "cell_type": "code",
   "execution_count": 27,
   "metadata": {},
   "outputs": [
    {
     "data": {
      "text/plain": [
       "(43384, 18)"
      ]
     },
     "execution_count": 27,
     "metadata": {},
     "output_type": "execute_result"
    }
   ],
   "source": [
    "# Your code:\n",
    "sample_SVM_one_hot = pd.get_dummies(sample_SVM,columns=['holiday'])\n",
    "sample_SVM_one_hot.shape"
   ]
  },
  {
   "cell_type": "markdown",
   "metadata": {},
   "source": [
    "Explanation:\n",
    "Temperature, rain_1h, snow_1h, clouds_percentage and date_time are suitable as input for SVM, and holiday should be modified first because it is categorical descriptive feature. We should change it to numbers."
   ]
  },
  {
   "cell_type": "markdown",
   "metadata": {},
   "source": [
    "   (b) Divide the data set into a training set *svmTrain* and a test set *svmTest* and briefly motivate your division      strategy. Include these data sets in the data set zip file you submit. \n",
    "   \n",
    "   Hint: Training the SVMs will take longer for a large training set!"
   ]
  },
  {
   "cell_type": "code",
   "execution_count": 27,
   "metadata": {},
   "outputs": [],
   "source": [
    "# Your code:\n",
    "from sklearn.model_selection import train_test_split\n",
    "sample_SVM_one_hot = sample_SVM_one_hot.sample(n=4000)\n",
    "features_SVM = sample_SVM_one_hot.columns.tolist()\n",
    "features_SVM.remove('population_density_categorical')\n",
    "X_train_SVM,X_test_SVM,y_train_SVM,y_test_SVM = train_test_split(sample_SVM_one_hot[features_SVM],sample_SVM_one_hot['population_density_categorical'],test_size=0.2)\n",
    "svmTrain = pd.concat([X_train_SVM,y_train_SVM], axis=1, sort=False)\n",
    "svmTest = pd.concat([X_test_SVM,y_test_SVM], axis=1, sort=False)\n",
    "svmTrain.to_csv(r'/home/yuchen/Semester_3/Data Science/assignment1_final/svmTrain.csv', index = None, header=True)\n",
    "svmTest.to_csv(r'/home/yuchen/Semester_3/Data Science/assignment1_final/svmTest.csv', index = None, header=True)"
   ]
  },
  {
   "cell_type": "markdown",
   "metadata": {},
   "source": [
    "Explanation:\n",
    "First shuffle the data before splitting, since our dataset is big we took 4000 samples for training, and we take 20% data for testing."
   ]
  },
  {
   "cell_type": "markdown",
   "metadata": {},
   "source": [
    "   (c) Use the training set to train 3 different SVMs with different combinations of the parameters. Use at least two distinct values for the parameters *kernel* and *C*."
   ]
  },
  {
   "cell_type": "code",
   "execution_count": 28,
   "metadata": {},
   "outputs": [],
   "source": [
    "# Your code:\n",
    "from sklearn.svm import SVC\n",
    "\n",
    "classifier1 = SVC(C=1, kernel='linear',gamma='auto')\n",
    "classifier1.fit(X_train_SVM, y_train_SVM)\n",
    "classifier2 = SVC(C=2, kernel='sigmoid',gamma='auto')\n",
    "classifier2.fit(X_train_SVM, y_train_SVM)\n",
    "classifier3 = SVC(C=1, kernel='poly',gamma='auto')\n",
    "classifier3.fit(X_train_SVM, y_train_SVM)\n",
    "pred1_SVM = classifier1.predict(X_test_SVM)\n",
    "pred2_SVM = classifier2.predict(X_test_SVM)\n",
    "pred3_SVM = classifier3.predict(X_test_SVM)"
   ]
  },
  {
   "cell_type": "markdown",
   "metadata": {},
   "source": [
    "   (d) Compute and print the mean accurracy and classification report of the trained SVMs with respect to the test set (as shown in instruction)."
   ]
  },
  {
   "cell_type": "code",
   "execution_count": 29,
   "metadata": {},
   "outputs": [
    {
     "name": "stdout",
     "output_type": "stream",
     "text": [
      "Accuracy: \n",
      " 1.0 \n",
      "\n",
      "Classification Report: \n",
      "               precision    recall  f1-score   support\n",
      "\n",
      "        high       0.62      0.76      0.68       222\n",
      "         low       0.42      0.34      0.38       118\n",
      "      medium       0.38      0.35      0.36       154\n",
      "   very high       0.00      0.00      0.00        67\n",
      "    very low       0.73      0.88      0.80       239\n",
      "\n",
      "    accuracy                           0.59       800\n",
      "   macro avg       0.43      0.47      0.44       800\n",
      "weighted avg       0.52      0.59      0.55       800\n",
      " \n",
      "\n",
      "Accuracy: \n",
      " 1.0 \n",
      "\n",
      "Classification Report: \n",
      "               precision    recall  f1-score   support\n",
      "\n",
      "        high       0.28      1.00      0.43       222\n",
      "         low       0.00      0.00      0.00       118\n",
      "      medium       0.00      0.00      0.00       154\n",
      "   very high       0.00      0.00      0.00        67\n",
      "    very low       0.00      0.00      0.00       239\n",
      "\n",
      "    accuracy                           0.28       800\n",
      "   macro avg       0.06      0.20      0.09       800\n",
      "weighted avg       0.08      0.28      0.12       800\n",
      " \n",
      "\n",
      "Accuracy: \n",
      " 1.0 \n",
      "\n",
      "Classification Report: \n",
      "               precision    recall  f1-score   support\n",
      "\n",
      "        high       0.54      0.79      0.64       222\n",
      "         low       0.53      0.52      0.52       118\n",
      "      medium       0.56      0.44      0.49       154\n",
      "   very high       0.67      0.03      0.06        67\n",
      "    very low       0.83      0.83      0.83       239\n",
      "\n",
      "    accuracy                           0.63       800\n",
      "   macro avg       0.63      0.52      0.51       800\n",
      "weighted avg       0.64      0.63      0.60       800\n",
      " \n",
      "\n"
     ]
    },
    {
     "name": "stderr",
     "output_type": "stream",
     "text": [
      "/home/yuchen/anaconda3/lib/python3.7/site-packages/sklearn/metrics/classification.py:1437: UndefinedMetricWarning: Precision and F-score are ill-defined and being set to 0.0 in labels with no predicted samples.\n",
      "  'precision', 'predicted', average, warn_for)\n",
      "/home/yuchen/anaconda3/lib/python3.7/site-packages/sklearn/metrics/classification.py:1437: UndefinedMetricWarning: Precision and F-score are ill-defined and being set to 0.0 in labels with no predicted samples.\n",
      "  'precision', 'predicted', average, warn_for)\n"
     ]
    }
   ],
   "source": [
    "# Your code:\n",
    "from sklearn.metrics import classification_report\n",
    "print('Accuracy: \\n', classifier1.score(X_test_SVM,pred1_SVM), '\\n')\n",
    "print('Classification Report: \\n', classification_report(y_test_SVM, pred1_SVM), '\\n')  \n",
    "print('Accuracy: \\n', classifier2.score(X_test_SVM,pred2_SVM), '\\n')\n",
    "print('Classification Report: \\n', classification_report(y_test_SVM, pred2_SVM), '\\n')  \n",
    "print('Accuracy: \\n', classifier3.score(X_test_SVM,pred3_SVM), '\\n')\n",
    "print('Classification Report: \\n', classification_report(y_test_SVM, pred3_SVM), '\\n')  "
   ]
  },
  {
   "cell_type": "markdown",
   "metadata": {},
   "source": [
    "   (e) Interpret and evaluate the 3 SVMs and compare them. Why are they similar/different? Which SVM do you recommend and why?"
   ]
  },
  {
   "cell_type": "markdown",
   "metadata": {},
   "source": [
    "Explanation:The third SVM has the best result. It has polynomial kernel, compared to linear kernel of the first SVM. The second SVM does not behave well, because the C value is too big. So the SVM with kernel \"ploy\" and C=1 is recommended, because our problem is only 0-1 classification problem.\n"
   ]
  },
  {
   "cell_type": "markdown",
   "metadata": {},
   "source": [
    "## Question 5 - Neural Networks (20 points)\n",
    "In this question consider the whole dataset that you have created in the *Preprocessing of Dataset* section. The target feature is *population_density_categorical*. \n",
    "\n",
    "To avoid performance problems, use the first 4000 rows of your dataset (you will need 2000 for training and 2000 for testing)."
   ]
  },
  {
   "cell_type": "markdown",
   "metadata": {},
   "source": [
    "   (a) What are the possible inputs of your network?\n",
    "     - Show the possible extracted features.\n",
    "     - Show the number of possible patterns of inputs for the categorical data."
   ]
  },
  {
   "cell_type": "code",
   "execution_count": 6,
   "metadata": {
    "scrolled": false
   },
   "outputs": [
    {
     "name": "stdout",
     "output_type": "stream",
     "text": [
      "7 9 23\n"
     ]
    },
    {
     "name": "stderr",
     "output_type": "stream",
     "text": [
      "C:\\Users\\sajid\\Anaconda3\\lib\\site-packages\\ipykernel_launcher.py:3: SettingWithCopyWarning: \n",
      "A value is trying to be set on a copy of a slice from a DataFrame.\n",
      "Try using .loc[row_indexer,col_indexer] = value instead\n",
      "\n",
      "See the caveats in the documentation: http://pandas.pydata.org/pandas-docs/stable/user_guide/indexing.html#returning-a-view-versus-a-copy\n",
      "  This is separate from the ipykernel package so we can avoid doing imports until\n"
     ]
    },
    {
     "data": {
      "text/html": [
       "<div>\n",
       "<style scoped>\n",
       "    .dataframe tbody tr th:only-of-type {\n",
       "        vertical-align: middle;\n",
       "    }\n",
       "\n",
       "    .dataframe tbody tr th {\n",
       "        vertical-align: top;\n",
       "    }\n",
       "\n",
       "    .dataframe thead th {\n",
       "        text-align: right;\n",
       "    }\n",
       "</style>\n",
       "<table border=\"1\" class=\"dataframe\">\n",
       "  <thead>\n",
       "    <tr style=\"text-align: right;\">\n",
       "      <th></th>\n",
       "      <th>holiday</th>\n",
       "      <th>temperature</th>\n",
       "      <th>rain_1h</th>\n",
       "      <th>snow_1h</th>\n",
       "      <th>clouds_percentage</th>\n",
       "      <th>weather_type</th>\n",
       "      <th>weather_type_details</th>\n",
       "      <th>date_time</th>\n",
       "      <th>population_density</th>\n",
       "      <th>population_density_categorical</th>\n",
       "    </tr>\n",
       "  </thead>\n",
       "  <tbody>\n",
       "    <tr>\n",
       "      <td>0</td>\n",
       "      <td>None</td>\n",
       "      <td>288.28</td>\n",
       "      <td>0.0</td>\n",
       "      <td>0.0</td>\n",
       "      <td>40</td>\n",
       "      <td>Clouds</td>\n",
       "      <td>scattered clouds</td>\n",
       "      <td>9</td>\n",
       "      <td>5545</td>\n",
       "      <td>high</td>\n",
       "    </tr>\n",
       "    <tr>\n",
       "      <td>1</td>\n",
       "      <td>None</td>\n",
       "      <td>289.36</td>\n",
       "      <td>0.0</td>\n",
       "      <td>0.0</td>\n",
       "      <td>75</td>\n",
       "      <td>Clouds</td>\n",
       "      <td>broken clouds</td>\n",
       "      <td>10</td>\n",
       "      <td>4516</td>\n",
       "      <td>high</td>\n",
       "    </tr>\n",
       "    <tr>\n",
       "      <td>2</td>\n",
       "      <td>None</td>\n",
       "      <td>290.13</td>\n",
       "      <td>0.0</td>\n",
       "      <td>0.0</td>\n",
       "      <td>90</td>\n",
       "      <td>Clouds</td>\n",
       "      <td>overcast clouds</td>\n",
       "      <td>12</td>\n",
       "      <td>5026</td>\n",
       "      <td>high</td>\n",
       "    </tr>\n",
       "    <tr>\n",
       "      <td>3</td>\n",
       "      <td>None</td>\n",
       "      <td>291.14</td>\n",
       "      <td>0.0</td>\n",
       "      <td>0.0</td>\n",
       "      <td>75</td>\n",
       "      <td>Clouds</td>\n",
       "      <td>broken clouds</td>\n",
       "      <td>13</td>\n",
       "      <td>4918</td>\n",
       "      <td>high</td>\n",
       "    </tr>\n",
       "    <tr>\n",
       "      <td>4</td>\n",
       "      <td>None</td>\n",
       "      <td>291.72</td>\n",
       "      <td>0.0</td>\n",
       "      <td>0.0</td>\n",
       "      <td>1</td>\n",
       "      <td>Clear</td>\n",
       "      <td>sky is clear</td>\n",
       "      <td>14</td>\n",
       "      <td>5181</td>\n",
       "      <td>high</td>\n",
       "    </tr>\n",
       "  </tbody>\n",
       "</table>\n",
       "</div>"
      ],
      "text/plain": [
       "  holiday  temperature  rain_1h  snow_1h  clouds_percentage weather_type  \\\n",
       "0    None       288.28      0.0      0.0                 40       Clouds   \n",
       "1    None       289.36      0.0      0.0                 75       Clouds   \n",
       "2    None       290.13      0.0      0.0                 90       Clouds   \n",
       "3    None       291.14      0.0      0.0                 75       Clouds   \n",
       "4    None       291.72      0.0      0.0                  1        Clear   \n",
       "\n",
       "  weather_type_details  date_time  population_density  \\\n",
       "0     scattered clouds          9                5545   \n",
       "1        broken clouds         10                4516   \n",
       "2      overcast clouds         12                5026   \n",
       "3        broken clouds         13                4918   \n",
       "4         sky is clear         14                5181   \n",
       "\n",
       "  population_density_categorical  \n",
       "0                           high  \n",
       "1                           high  \n",
       "2                           high  \n",
       "3                           high  \n",
       "4                           high  "
      ]
     },
     "execution_count": 6,
     "metadata": {},
     "output_type": "execute_result"
    }
   ],
   "source": [
    "# Your code:\n",
    "sample_nn = sample[:4000]\n",
    "sample_nn['date_time'] = pd.to_datetime(sample_nn['date_time']).dt.hour\n",
    "\n",
    "print(len(sample_nn['holiday'].unique()),len(sample_nn['weather_type'].unique()),len(sample_nn['weather_type_details'].unique()))\n",
    "sample_nn.head()"
   ]
  },
  {
   "cell_type": "markdown",
   "metadata": {},
   "source": [
    "Explanation:\n",
    "The possible inputs of the network are all the features (except population_density_categorical) in the sample after one hot encoding. And for time we restrict the data to hour as we did above.\n",
    "We have 7x9x23=1449 possible patterns of inputs for the categorical data."
   ]
  },
  {
   "cell_type": "markdown",
   "metadata": {},
   "source": [
    "   (b) Before using the Neural Network algorithm, do you think it provides an accurate result? Why? \n",
    "     - Your explanation should be supported by data."
   ]
  },
  {
   "cell_type": "markdown",
   "metadata": {},
   "source": [
    "Explanation:\n"
   ]
  },
  {
   "cell_type": "code",
   "execution_count": 25,
   "metadata": {},
   "outputs": [
    {
     "name": "stdout",
     "output_type": "stream",
     "text": [
      "Unique holiday values = 7\n",
      "Unique temperature values = 2030\n",
      "Unique rain_1h values = 1\n",
      "Unique snow_1h values = 1\n",
      "Unique clouds_percentage values = 55\n",
      "Unique weayher_type values = 9\n",
      "Unique weather_type_details values = 23\n",
      "Unique date_time values = 24\n",
      "Unique population_density values = 2515\n"
     ]
    }
   ],
   "source": [
    "# Your code:\n",
    "\n",
    "print('Unique holiday values =',len(sample_nn.holiday.unique()))\n",
    "print('Unique temperature values =',len(sample_nn.temperature.unique()))\n",
    "print('Unique rain_1h values =',len(sample_nn.rain_1h.unique()))\n",
    "print('Unique snow_1h values =',len(sample_nn.snow_1h.unique()))\n",
    "print('Unique clouds_percentage values =',len(sample_nn.clouds_percentage.unique()))\n",
    "print('Unique weayher_type values =',len(sample_nn.weather_type.unique()))\n",
    "print('Unique weather_type_details values =',len(sample_nn.weather_type_details.unique()))\n",
    "print('Unique date_time values =',len(sample_nn.date_time.unique()))\n",
    "print('Unique population_density values =',len(sample_nn.population_density.unique()))"
   ]
  },
  {
   "cell_type": "markdown",
   "metadata": {},
   "source": [
    "From above we can see that each feature has very less unique values with popultion_density being the hishest with 2515 unique values. With a data of 4000 cases, the neural network algorithm should be able to predict the output which is categorical (with 5 unique values) quite accurately."
   ]
  },
  {
   "cell_type": "markdown",
   "metadata": {},
   "source": [
    "   (c) Which features can be used for designing your network as inputs? Why?\n",
    "       - Which features should be changed (example: from categorical to numerical or numerical to categorical)? Why? \n",
    "       - Convert the features. "
   ]
  },
  {
   "cell_type": "markdown",
   "metadata": {},
   "source": [
    "Explanation:\n",
    "The catagorical features holiday and weather_type should be converted into numerical using one hot encoding."
   ]
  },
  {
   "cell_type": "code",
   "execution_count": 32,
   "metadata": {},
   "outputs": [],
   "source": [
    "# Your code:\n",
    "sample_nn_one_hot = pd.get_dummies(sample_nn,columns=['holiday','weather_type','weather_type_details'])"
   ]
  },
  {
   "cell_type": "markdown",
   "metadata": {},
   "source": [
    "   (d) Train your network with default hyperparameters and return the parameters."
   ]
  },
  {
   "cell_type": "code",
   "execution_count": 33,
   "metadata": {},
   "outputs": [
    {
     "name": "stdout",
     "output_type": "stream",
     "text": [
      "0.855\n",
      "{'activation': 'relu', 'alpha': 0.0001, 'batch_size': 'auto', 'beta_1': 0.9, 'beta_2': 0.999, 'early_stopping': False, 'epsilon': 1e-08, 'hidden_layer_sizes': (100,), 'learning_rate': 'constant', 'learning_rate_init': 0.001, 'max_iter': 200, 'momentum': 0.9, 'n_iter_no_change': 10, 'nesterovs_momentum': True, 'power_t': 0.5, 'random_state': None, 'shuffle': True, 'solver': 'adam', 'tol': 0.0001, 'validation_fraction': 0.1, 'verbose': False, 'warm_start': False}\n"
     ]
    }
   ],
   "source": [
    "# Your code:\n",
    "from sklearn.neural_network import MLPClassifier\n",
    "from sklearn.model_selection import train_test_split\n",
    "import pandas as pd\n",
    "features = sample_nn_one_hot.columns.tolist()\n",
    "features.remove('population_density_categorical')\n",
    "X =sample_nn_one_hot[features]\n",
    "Y =sample_nn_one_hot['population_density_categorical']\n",
    "X_train, X_test, y_train, y_test = train_test_split(X,Y,test_size=0.5)\n",
    "nn = MLPClassifier()\n",
    "a = nn.fit(X_train,y_train)\n",
    "print(nn.score(X_test,y_test))\n",
    "print(nn.get_params())"
   ]
  },
  {
   "cell_type": "markdown",
   "metadata": {},
   "source": [
    "   (e) Try to find an optimized number of hidden layers and nodes. \n",
    "      - Start with default numbers and then at least go with one number above and one number below the default.\n",
    "      - Use the 2000 rows of the data for training.\n",
    "      - What are the optimized numbers of hidden layers and nodes that you have found?"
   ]
  },
  {
   "cell_type": "code",
   "execution_count": 34,
   "metadata": {},
   "outputs": [
    {
     "name": "stderr",
     "output_type": "stream",
     "text": [
      "/home/yuchen/anaconda3/lib/python3.7/site-packages/sklearn/neural_network/multilayer_perceptron.py:566: ConvergenceWarning: Stochastic Optimizer: Maximum iterations (200) reached and the optimization hasn't converged yet.\n",
      "  % self.max_iter, ConvergenceWarning)\n"
     ]
    },
    {
     "name": "stdout",
     "output_type": "stream",
     "text": [
      "()\n",
      "0.911\n",
      "(100,100)\n",
      "0.7275\n",
      "(100,100,100)\n",
      "0.777\n"
     ]
    }
   ],
   "source": [
    "# Your code: (number of hidden layers)\n",
    "nn1 = MLPClassifier(hidden_layer_sizes=())  #set max_iter to 1000 because 200 is not sufficient for convergence\n",
    "a1 = nn1.fit(X_train,y_train)\n",
    "print(\"()\")\n",
    "print(nn1.score(X_test,y_test))\n",
    "\n",
    "nn2 = MLPClassifier(hidden_layer_sizes=(100,100))\n",
    "a2 = nn2.fit(X_train,y_train)\n",
    "print(\"(100,100)\")\n",
    "print(nn2.score(X_test,y_test))\n",
    "\n",
    "nn3 = MLPClassifier(hidden_layer_sizes=(100,100,100))\n",
    "a3 = nn3.fit(X_train,y_train)\n",
    "print(\"(100,100,100)\")\n",
    "print(nn3.score(X_test,y_test))"
   ]
  },
  {
   "cell_type": "code",
   "execution_count": 35,
   "metadata": {},
   "outputs": [
    {
     "name": "stdout",
     "output_type": "stream",
     "text": [
      "(10,)\n",
      "0.759\n",
      "(50,)\n",
      "0.774\n",
      "(200,)\n",
      "0.8235\n",
      "(500,)\n",
      "0.8115\n"
     ]
    }
   ],
   "source": [
    "# Your code: (number of nodes in the hidden layer)\n",
    "nn4 = MLPClassifier(hidden_layer_sizes=(10,))\n",
    "a = nn4.fit(X_train,y_train)\n",
    "print(\"(10,)\")\n",
    "print(nn4.score(X_test,y_test))\n",
    "\n",
    "nn5 = MLPClassifier(hidden_layer_sizes=(50,))\n",
    "a = nn5.fit(X_train,y_train)\n",
    "print(\"(50,)\")\n",
    "print(nn5.score(X_test,y_test))\n",
    "\n",
    "\n",
    "nn6 = MLPClassifier(hidden_layer_sizes=(200,))\n",
    "a = nn6.fit(X_train,y_train)\n",
    "print(\"(200,)\")\n",
    "print(nn6.score(X_test,y_test))\n",
    "\n",
    "nn7 = MLPClassifier(hidden_layer_sizes=(200,))\n",
    "a = nn7.fit(X_train,y_train)\n",
    "print(\"(500,)\")\n",
    "print(nn7.score(X_test,y_test))"
   ]
  },
  {
   "cell_type": "code",
   "execution_count": 36,
   "metadata": {},
   "outputs": [
    {
     "name": "stdout",
     "output_type": "stream",
     "text": [
      "(10,10,10)\n",
      "0.9205\n"
     ]
    }
   ],
   "source": [
    "# Your code: (optimized network) \n",
    "nn_OPT = MLPClassifier(hidden_layer_sizes=(10,10,10))\n",
    "a = nn_OPT.fit(X_train,y_train)\n",
    "print(\"(10,10,10)\")\n",
    "print(nn_OPT.score(X_test,y_test))"
   ]
  },
  {
   "cell_type": "markdown",
   "metadata": {},
   "source": [
    "Explanation:\n",
    "We can first see that without hidden layer, we got a good accuracy of 0.9185. And with 2 hidden layers we also get a accuracy of 0.8925. Then we compared different number of nodes, and 10 gave the best accuracy of 0.938. So finally we used 2 hidden layers with 10 nodes in each layer, and found the best accuracy of 0.9455. Howerver, due to different initialization of weights, we got different networks each time we run the code. So the parameters we found may not be optimal."
   ]
  },
  {
   "cell_type": "markdown",
   "metadata": {},
   "source": [
    "   (f) Try to train your model with one linear activation function and one non-linear activation function. Use the default number of hidden layers and nodes.\n",
    "     - Name the functions and explain how the results are different and why. \n",
    "     - You can use evaluation metrics to show which activation function works better for this data set.\n",
    "     - Use the 2000 rows of the data for training."
   ]
  },
  {
   "cell_type": "code",
   "execution_count": 37,
   "metadata": {},
   "outputs": [
    {
     "name": "stdout",
     "output_type": "stream",
     "text": [
      "identity\n",
      "0.8065\n"
     ]
    }
   ],
   "source": [
    "# Your code: (linear activation function):\n",
    "nn_lin = MLPClassifier(activation='identity')\n",
    "a = nn_lin.fit(X_train,y_train)\n",
    "print(\"identity\")\n",
    "print(nn_lin.score(X_test,y_test))\n"
   ]
  },
  {
   "cell_type": "code",
   "execution_count": 38,
   "metadata": {},
   "outputs": [
    {
     "name": "stdout",
     "output_type": "stream",
     "text": [
      "logistic\n",
      "0.9345\n"
     ]
    }
   ],
   "source": [
    "# Your code: (non-linear activation function):\n",
    "nn_non = MLPClassifier(activation='logistic')\n",
    "a = nn_non.fit(X_train,y_train)\n",
    "print(\"logistic\")\n",
    "print(nn_non.score(X_test,y_test))\n",
    "\n",
    "# nn = MLPClassifier(activation='tanh')\n",
    "# a = nn.fit(X_train,y_train)\n",
    "# print(\"tanh\")\n",
    "# print(nn.score(X_test,y_test))\n",
    "\n",
    "# nn = MLPClassifier(activation='relu')\n",
    "# a = nn.fit(X_train,y_train)\n",
    "# print(\"relu\")\n",
    "# print(nn.score(X_test,y_test))"
   ]
  },
  {
   "cell_type": "markdown",
   "metadata": {},
   "source": [
    "Explanation:\n",
    "As we can see, the nonlinear activation functions work better than the linear one, because linear activation function doesn’t help with the complexity or various parameters of usual data that is fed to the neural networks.The nonlinear activation function makes it easy for the model to generalize or adapt with variety of data and to differentiate between the output."
   ]
  },
  {
   "cell_type": "markdown",
   "metadata": {},
   "source": [
    "## Question 6 - Evaluation (10 Points)"
   ]
  },
  {
   "cell_type": "markdown",
   "metadata": {},
   "source": [
    "   (a) Consider one of the models in question 4 (c) of your choice, one neural network with optimized number of hidden layers and nodes from question 5 (e), and the neural network with non-linear activation function from question 5 (f), for a total of *three* models, together with their respective datasets. Compute the following metrics for a 3-fold cross validation performed on each model:"
   ]
  },
  {
   "cell_type": "markdown",
   "metadata": {},
   "source": [
    "- Confusion matrices on the training data (sum cell-by-cell the results of each fold)"
   ]
  },
  {
   "cell_type": "code",
   "execution_count": 28,
   "metadata": {},
   "outputs": [
    {
     "name": "stdout",
     "output_type": "stream",
     "text": [
      "[[1.606e+03 6.400e+01 3.500e+02 1.000e+00 5.700e+01]\n",
      " [2.430e+02 8.160e+02 1.650e+02 0.000e+00 2.800e+02]\n",
      " [7.580e+02 1.760e+02 4.930e+02 0.000e+00 1.100e+01]\n",
      " [5.670e+02 1.100e+01 1.800e+02 0.000e+00 4.000e+00]\n",
      " [1.050e+02 2.660e+02 4.000e+00 0.000e+00 1.843e+03]]\n"
     ]
    }
   ],
   "source": [
    "# Your code for the confusion matrices on the training data\n",
    "\n",
    "#SVM\n",
    "from sklearn.model_selection import KFold\n",
    "import numpy as np\n",
    "from sklearn.metrics import confusion_matrix\n",
    "from sklearn.svm import SVC\n",
    "\n",
    "\n",
    "sample_SVM_one_hot = sample_SVM_one_hot[:4000]\n",
    "method1 = SVC(C=1, kernel='poly',gamma='auto')\n",
    "features_SVM = sample_SVM_one_hot.columns.tolist()\n",
    "features_SVM.remove('population_density_categorical')\n",
    "kf1 = KFold(n_splits=3)\n",
    "kf1.get_n_splits(sample_SVM_one_hot)\n",
    "X1 = np.array(sample_SVM_one_hot[features_SVM])\n",
    "y1 = np.array(sample_SVM_one_hot['population_density_categorical'])\n",
    "cm = np.zeros((5,5))\n",
    "\n",
    "for train_index, test_index in kf1.split(X1):\n",
    "    method1.fit(X1[train_index],y1[train_index])\n",
    "    pred = method1.predict(X1[train_index])\n",
    "    cm = confusion_matrix(y1[train_index],pred)+cm\n",
    "print(cm)\n",
    "    \n",
    "    \n",
    "    "
   ]
  },
  {
   "cell_type": "code",
   "execution_count": 40,
   "metadata": {},
   "outputs": [
    {
     "name": "stdout",
     "output_type": "stream",
     "text": [
      "[[1894.    0.  124.   60.    0.]\n",
      " [   0. 1479.   14.    0.   11.]\n",
      " [  56.   52. 1330.    0.    0.]\n",
      " [ 201.    0.    0.  561.    0.]\n",
      " [   0.    8.    0.    0. 2210.]]\n"
     ]
    }
   ],
   "source": [
    "# Optimized network \n",
    "nn_OPT = MLPClassifier(hidden_layer_sizes=(10,10,10))\n",
    "\n",
    "features = sample_nn_one_hot.columns.tolist()\n",
    "features.remove('population_density_categorical')\n",
    "\n",
    "kf1 = KFold(n_splits=3)\n",
    "kf1.get_n_splits(sample_nn_one_hot)\n",
    "X = np.array(sample_nn_one_hot[features])\n",
    "y = np.array(sample_nn_one_hot['population_density_categorical'])\n",
    "cm = np.zeros((5,5))\n",
    "for train_index, test_index in kf1.split(X):\n",
    "    nn_OPT.fit(X[train_index],y[train_index])\n",
    "    pred = nn_OPT.predict(X[train_index])\n",
    "    cm = confusion_matrix(y[train_index],pred)+cm\n",
    "print(cm)"
   ]
  },
  {
   "cell_type": "code",
   "execution_count": 41,
   "metadata": {},
   "outputs": [
    {
     "name": "stdout",
     "output_type": "stream",
     "text": [
      "[[1911.    0.  106.   61.    0.]\n",
      " [   0. 1458.   39.    0.    7.]\n",
      " [  69.   52. 1317.    0.    0.]\n",
      " [  90.    0.    0.  672.    0.]\n",
      " [   0.   25.    0.    0. 2193.]]\n"
     ]
    }
   ],
   "source": [
    "# Non linear Activation function\n",
    "\n",
    "nn_non = MLPClassifier(activation='logistic')\n",
    "\n",
    "features = sample_nn_one_hot.columns.tolist()\n",
    "features.remove('population_density_categorical')\n",
    "\n",
    "kf1 = KFold(n_splits=3)\n",
    "kf1.get_n_splits(sample_nn_one_hot)\n",
    "X = np.array(sample_nn_one_hot[features])\n",
    "y = np.array(sample_nn_one_hot['population_density_categorical'])\n",
    "cm = np.zeros((5,5))\n",
    "for train_index, test_index in kf1.split(X):\n",
    "    nn_non.fit(X[train_index],y[train_index])\n",
    "    pred = nn_non.predict(X[train_index])\n",
    "    cm = confusion_matrix(y[train_index],pred)+cm\n",
    "print(cm)"
   ]
  },
  {
   "cell_type": "markdown",
   "metadata": {},
   "source": [
    "- Confusion matrices on the test data (sum cell-by-cell the results of each fold)"
   ]
  },
  {
   "cell_type": "code",
   "execution_count": 29,
   "metadata": {},
   "outputs": [
    {
     "name": "stdout",
     "output_type": "stream",
     "text": [
      "[[748.  26. 205.   0.  60.]\n",
      " [116. 397.  90.   0. 149.]\n",
      " [371. 126. 216.   0.   6.]\n",
      " [232.  30. 114.   0.   5.]\n",
      " [ 45. 126.   2.   0. 936.]]\n"
     ]
    }
   ],
   "source": [
    "# Your code for the confusion matrices on the test data\n",
    "\n",
    "#SVM\n",
    "\n",
    "sample_SVM_one_hot = sample_SVM_one_hot[:4000]\n",
    "method1 = SVC(C=1, kernel='poly',gamma='auto')\n",
    "kf1 = KFold(n_splits=3)\n",
    "kf1.get_n_splits(sample_SVM_one_hot)\n",
    "X1 = np.array(sample_SVM_one_hot[features_SVM])\n",
    "y1 = np.array(sample_SVM_one_hot['population_density_categorical'])\n",
    "\n",
    "cm = np.zeros((5,5))\n",
    "for train_index, test_index in kf1.split(X1):\n",
    "    method1.fit(X1[train_index],y1[train_index])\n",
    "    pred = method1.predict(X1[test_index])\n",
    "    cm = confusion_matrix(y1[test_index],pred)+cm\n",
    "print(cm)"
   ]
  },
  {
   "cell_type": "code",
   "execution_count": 43,
   "metadata": {},
   "outputs": [
    {
     "name": "stdout",
     "output_type": "stream",
     "text": [
      "[[ 945.    0.   64.   30.    0.]\n",
      " [   0.  711.   34.    0.    7.]\n",
      " [  49.   27.  643.    0.    0.]\n",
      " [ 105.    0.    0.  276.    0.]\n",
      " [   0.    8.    0.    0. 1101.]]\n"
     ]
    }
   ],
   "source": [
    "# Optimized network \n",
    "nn_OPT = MLPClassifier(hidden_layer_sizes=(10,10,10))\n",
    "\n",
    "features = sample_nn_one_hot.columns.tolist()\n",
    "features.remove('population_density_categorical')\n",
    "\n",
    "kf1 = KFold(n_splits=3)\n",
    "kf1.get_n_splits(sample_nn_one_hot)\n",
    "X = np.array(sample_nn_one_hot[features])\n",
    "y = np.array(sample_nn_one_hot['population_density_categorical'])\n",
    "cm = np.zeros((5,5))\n",
    "for train_index, test_index in kf1.split(X):\n",
    "    nn_OPT.fit(X[train_index],y[train_index])\n",
    "    pred = nn_OPT.predict(X[test_index])\n",
    "    cm = confusion_matrix(y[test_index],pred)+cm\n",
    "print(cm)"
   ]
  },
  {
   "cell_type": "code",
   "execution_count": 44,
   "metadata": {},
   "outputs": [
    {
     "name": "stdout",
     "output_type": "stream",
     "text": [
      "[[ 872.    0.  135.   32.    0.]\n",
      " [   0.  731.   15.    0.    6.]\n",
      " [  33.   44.  642.    0.    0.]\n",
      " [ 103.    0.    0.  278.    0.]\n",
      " [   0.    9.    0.    0. 1100.]]\n"
     ]
    }
   ],
   "source": [
    "# Non linear Activation function\n",
    "\n",
    "nn_non = MLPClassifier(activation='logistic')\n",
    "\n",
    "features = sample_nn_one_hot.columns.tolist()\n",
    "features.remove('population_density_categorical')\n",
    "\n",
    "kf1 = KFold(n_splits=3)\n",
    "kf1.get_n_splits(sample_nn_one_hot)\n",
    "X = np.array(sample_nn_one_hot[features])\n",
    "y = np.array(sample_nn_one_hot['population_density_categorical'])\n",
    "cm = np.zeros((5,5))\n",
    "for train_index, test_index in kf1.split(X):\n",
    "    nn_non.fit(X[train_index],y[train_index])\n",
    "    pred = nn_non.predict(X[test_index])\n",
    "    cm = confusion_matrix(y[test_index],pred)+cm\n",
    "print(cm)"
   ]
  },
  {
   "cell_type": "markdown",
   "metadata": {},
   "source": [
    "- Precision, recall and F1-scores on the test data (give explicitly the result for each fold)"
   ]
  },
  {
   "cell_type": "code",
   "execution_count": 31,
   "metadata": {},
   "outputs": [],
   "source": [
    "from sklearn.metrics import accuracy_score, precision_score, f1_score, recall_score"
   ]
  },
  {
   "cell_type": "code",
   "execution_count": 32,
   "metadata": {},
   "outputs": [
    {
     "name": "stderr",
     "output_type": "stream",
     "text": [
      "C:\\Users\\sajid\\Anaconda3\\lib\\site-packages\\sklearn\\metrics\\classification.py:1437: UndefinedMetricWarning: Precision is ill-defined and being set to 0.0 in labels with no predicted samples.\n",
      "  'precision', 'predicted', average, warn_for)\n",
      "C:\\Users\\sajid\\Anaconda3\\lib\\site-packages\\sklearn\\metrics\\classification.py:1437: UndefinedMetricWarning: F-score is ill-defined and being set to 0.0 in labels with no predicted samples.\n",
      "  'precision', 'predicted', average, warn_for)\n"
     ]
    },
    {
     "name": "stdout",
     "output_type": "stream",
     "text": [
      "Precision Score = [0.54792043 0.51492537 0.5        0.         0.79746835]\n",
      "Recall Score = [0.79527559 0.62162162 0.29207921 0.         0.84450402]\n",
      "F1 score = [0.64882227 0.56326531 0.36875    0.         0.8203125 ]\n",
      "\n",
      "\n"
     ]
    },
    {
     "name": "stderr",
     "output_type": "stream",
     "text": [
      "C:\\Users\\sajid\\Anaconda3\\lib\\site-packages\\sklearn\\metrics\\classification.py:1437: UndefinedMetricWarning: Precision is ill-defined and being set to 0.0 in labels with no predicted samples.\n",
      "  'precision', 'predicted', average, warn_for)\n",
      "C:\\Users\\sajid\\Anaconda3\\lib\\site-packages\\sklearn\\metrics\\classification.py:1437: UndefinedMetricWarning: F-score is ill-defined and being set to 0.0 in labels with no predicted samples.\n",
      "  'precision', 'predicted', average, warn_for)\n"
     ]
    },
    {
     "name": "stdout",
     "output_type": "stream",
     "text": [
      "Precision Score = [0.4580292  0.68341709 0.38034188 0.         0.85795455]\n",
      "Recall Score = [0.76993865 0.46896552 0.34230769 0.         0.81401617]\n",
      "F1 score = [0.57437071 0.55623722 0.36032389 0.         0.83540802]\n",
      "\n",
      "\n",
      "Precision Score = [0.47201946 0.51680672 0.24727273 0.         0.7799511 ]\n",
      "Recall Score = [0.58433735 0.5125     0.26459144 0.         0.8739726 ]\n",
      "F1 score = [0.52220727 0.51464435 0.2556391  0.         0.82428941]\n",
      "\n",
      "\n"
     ]
    },
    {
     "name": "stderr",
     "output_type": "stream",
     "text": [
      "C:\\Users\\sajid\\Anaconda3\\lib\\site-packages\\sklearn\\metrics\\classification.py:1437: UndefinedMetricWarning: Precision is ill-defined and being set to 0.0 in labels with no predicted samples.\n",
      "  'precision', 'predicted', average, warn_for)\n",
      "C:\\Users\\sajid\\Anaconda3\\lib\\site-packages\\sklearn\\metrics\\classification.py:1437: UndefinedMetricWarning: F-score is ill-defined and being set to 0.0 in labels with no predicted samples.\n",
      "  'precision', 'predicted', average, warn_for)\n"
     ]
    }
   ],
   "source": [
    "# Your code for precision, recall and F1-scores on the test data\n",
    "\n",
    "#SVM\n",
    "sample_SVM_one_hot = sample_SVM_one_hot[:4000]\n",
    "method1 = SVC(C=1, kernel='poly',gamma='auto')\n",
    "kf1 = KFold(n_splits=3)\n",
    "kf1.get_n_splits(sample_SVM_one_hot)\n",
    "X1 = np.array(sample_SVM_one_hot[features_SVM])\n",
    "y1 = np.array(sample_SVM_one_hot['population_density_categorical'])\n",
    "\n",
    "cm = np.zeros((5,5))\n",
    "for train_index, test_index in kf1.split(X1):\n",
    "    method1.fit(X1[train_index],y1[train_index])\n",
    "    pred = method1.predict(X1[test_index])\n",
    "    print(\"Precision Score =\",precision_score(y1[test_index], pred, average=None))\n",
    "    print(\"Recall Score =\",recall_score(y1[test_index], pred, average=None))\n",
    "    print(\"F1 score =\",f1_score(y1[test_index], pred,average=None))\n",
    "    print(\"\\n\")\n"
   ]
  },
  {
   "cell_type": "code",
   "execution_count": 47,
   "metadata": {},
   "outputs": [
    {
     "name": "stdout",
     "output_type": "stream",
     "text": [
      "Precision Score = [0.69868996 0.9375     0.7480315  1.         0.97631579]\n",
      "Recall Score = [0.83989501 0.94594595 0.94059406 0.11538462 0.99463807]\n",
      "F1 score = [0.76281287 0.94170404 0.83333333 0.20689655 0.98539177]\n",
      "\n",
      "\n",
      "Precision Score = [0.78440367 0.95652174 0.97630332 0.35833333 1.        ]\n",
      "Recall Score = [0.52453988 0.9862069  0.79230769 1.         0.98382749]\n",
      "F1 score = [0.62867647 0.97113752 0.87473461 0.52760736 0.99184783]\n",
      "\n",
      "\n",
      "Precision Score = [0.36047774 1.         0.         0.         0.96306069]\n",
      "Recall Score = [1.     0.1375 0.     0.     1.    ]\n",
      "F1 score = [0.52992817 0.24175824 0.         0.         0.9811828 ]\n",
      "\n",
      "\n"
     ]
    },
    {
     "name": "stderr",
     "output_type": "stream",
     "text": [
      "/home/yuchen/anaconda3/lib/python3.7/site-packages/sklearn/neural_network/multilayer_perceptron.py:566: ConvergenceWarning: Stochastic Optimizer: Maximum iterations (200) reached and the optimization hasn't converged yet.\n",
      "  % self.max_iter, ConvergenceWarning)\n",
      "/home/yuchen/anaconda3/lib/python3.7/site-packages/sklearn/metrics/classification.py:1437: UndefinedMetricWarning: Precision is ill-defined and being set to 0.0 in labels with no predicted samples.\n",
      "  'precision', 'predicted', average, warn_for)\n",
      "/home/yuchen/anaconda3/lib/python3.7/site-packages/sklearn/metrics/classification.py:1437: UndefinedMetricWarning: F-score is ill-defined and being set to 0.0 in labels with no predicted samples.\n",
      "  'precision', 'predicted', average, warn_for)\n"
     ]
    }
   ],
   "source": [
    "# Optimized network \n",
    "nn_OPT = MLPClassifier(hidden_layer_sizes=(10,10,10))\n",
    "\n",
    "features = sample_nn_one_hot.columns.tolist()\n",
    "features.remove('population_density_categorical')\n",
    "\n",
    "kf1 = KFold(n_splits=3)\n",
    "kf1.get_n_splits(sample_nn_one_hot)\n",
    "X = np.array(sample_nn_one_hot[features])\n",
    "y = np.array(sample_nn_one_hot['population_density_categorical'])\n",
    "cm = np.zeros((5,5))\n",
    "for train_index, test_index in kf1.split(X):\n",
    "    nn_OPT.fit(X[train_index],y[train_index])\n",
    "    pred = nn_OPT.predict(X[test_index])\n",
    "    print(\"Precision Score =\",precision_score(y[test_index], pred, average=None))\n",
    "    print(\"Recall Score =\",recall_score(y[test_index], pred, average=None))\n",
    "    print(\"F1 score =\",f1_score(y[test_index], pred,average=None))\n",
    "    print(\"\\n\")"
   ]
  },
  {
   "cell_type": "code",
   "execution_count": 48,
   "metadata": {},
   "outputs": [
    {
     "name": "stdout",
     "output_type": "stream",
     "text": [
      "Precision Score = [0.8766756  0.88842975 0.76754386 0.99099099 0.98157895]\n",
      "Recall Score = [0.85826772 0.96846847 0.86633663 0.70512821 1.        ]\n",
      "F1 score = [0.86737401 0.92672414 0.81395349 0.82397004 0.99070385]\n",
      "\n",
      "\n",
      "Precision Score = [0.84473684 0.96232877 0.95515695 0.94805195 1.        ]\n",
      "Recall Score = [0.98466258 0.96896552 0.81923077 0.84883721 0.97304582]\n",
      "F1 score = [0.90934844 0.96563574 0.88198758 0.89570552 0.9863388 ]\n",
      "\n",
      "\n",
      "Precision Score = [0.94753086 1.         0.91287879 0.88461538 0.99455041]\n",
      "Recall Score = [0.9246988  0.925      0.93774319 0.99280576 1.        ]\n",
      "F1 score = [0.93597561 0.96103896 0.92514395 0.93559322 0.99726776]\n",
      "\n",
      "\n"
     ]
    }
   ],
   "source": [
    "# Non linear Activation function\n",
    "\n",
    "nn_non = MLPClassifier(activation='logistic')\n",
    "\n",
    "features = sample_nn_one_hot.columns.tolist()\n",
    "features.remove('population_density_categorical')\n",
    "\n",
    "kf1 = KFold(n_splits=3)\n",
    "kf1.get_n_splits(sample_nn_one_hot)\n",
    "X = np.array(sample_nn_one_hot[features])\n",
    "y = np.array(sample_nn_one_hot['population_density_categorical'])\n",
    "cm = np.zeros((5,5))\n",
    "for train_index, test_index in kf1.split(X):\n",
    "    nn_non.fit(X[train_index],y[train_index])\n",
    "    pred = nn_non.predict(X[test_index])\n",
    "    print(\"Precision Score =\",precision_score(y[test_index], pred, average=None))\n",
    "    print(\"Recall Score =\",recall_score(y[test_index], pred, average=None))\n",
    "    print(\"F1 score =\",f1_score(y[test_index], pred,average=None))\n",
    "    print(\"\\n\")"
   ]
  },
  {
   "cell_type": "markdown",
   "metadata": {},
   "source": [
    "- Accuracy scores on training and test data (give explicitly the result for each fold)"
   ]
  },
  {
   "cell_type": "code",
   "execution_count": 33,
   "metadata": {},
   "outputs": [
    {
     "name": "stdout",
     "output_type": "stream",
     "text": [
      "Accuracy on Training data = 0.5911477869467366\n",
      "Accuracy on Test data = 0.610944527736132\n",
      "\n",
      "\n",
      "Accuracy on Training data = 0.5860517435320585\n",
      "Accuracy on Test data = 0.5836459114778695\n",
      "\n",
      "\n",
      "Accuracy on Training data = 0.6070491188601425\n",
      "Accuracy on Test data = 0.5281320330082521\n",
      "\n",
      "\n"
     ]
    }
   ],
   "source": [
    "# Your code for accuracy scores on training and test data\n",
    "\n",
    "#SVM\n",
    "\n",
    "sample_SVM_one_hot = sample_SVM_one_hot[:4000]\n",
    "method1 = SVC(C=1, kernel='poly',gamma='auto')\n",
    "kf1 = KFold(n_splits=3)\n",
    "kf1.get_n_splits(sample_SVM_one_hot)\n",
    "X1 = np.array(sample_SVM_one_hot[features_SVM])\n",
    "y1 = np.array(sample_SVM_one_hot['population_density_categorical'])\n",
    "for train_index, test_index in kf1.split(X1):\n",
    "    method1.fit(X1[train_index],y1[train_index])\n",
    "    pred = method1.predict(X1[train_index])\n",
    "    print(\"Accuracy on Training data =\",accuracy_score(y1[train_index], pred))\n",
    "    pred = method1.predict(X1[test_index])\n",
    "    print(\"Accuracy on Test data =\",accuracy_score(y1[test_index], pred))\n",
    "    print(\"\\n\")\n",
    "\n"
   ]
  },
  {
   "cell_type": "code",
   "execution_count": 50,
   "metadata": {},
   "outputs": [
    {
     "name": "stdout",
     "output_type": "stream",
     "text": [
      "Accuracy on Training data = 0.9508627156789198\n",
      "Accuracy on Test data = 0.9137931034482759\n",
      "\n",
      "\n"
     ]
    },
    {
     "name": "stderr",
     "output_type": "stream",
     "text": [
      "/home/yuchen/anaconda3/lib/python3.7/site-packages/sklearn/neural_network/multilayer_perceptron.py:566: ConvergenceWarning: Stochastic Optimizer: Maximum iterations (200) reached and the optimization hasn't converged yet.\n",
      "  % self.max_iter, ConvergenceWarning)\n"
     ]
    },
    {
     "name": "stdout",
     "output_type": "stream",
     "text": [
      "Accuracy on Training data = 0.7799025121859767\n",
      "Accuracy on Test data = 0.8064516129032258\n",
      "\n",
      "\n",
      "Accuracy on Training data = 0.9261342332208474\n",
      "Accuracy on Test data = 0.9212303075768942\n",
      "\n",
      "\n"
     ]
    }
   ],
   "source": [
    "# Optimized network \n",
    "nn_OPT = MLPClassifier(hidden_layer_sizes=(10,10,10))\n",
    "\n",
    "features = sample_nn_one_hot.columns.tolist()\n",
    "features.remove('population_density_categorical')\n",
    "\n",
    "kf1 = KFold(n_splits=3)\n",
    "kf1.get_n_splits(sample_nn_one_hot)\n",
    "X = np.array(sample_nn_one_hot[features])\n",
    "y = np.array(sample_nn_one_hot['population_density_categorical'])\n",
    "cm = np.zeros((5,5))\n",
    "for train_index, test_index in kf1.split(X):\n",
    "    nn_OPT.fit(X[train_index],y[train_index])\n",
    "    pred = nn_OPT.predict(X[train_index])\n",
    "    print(\"Accuracy on Training data =\",accuracy_score(y[train_index], pred))\n",
    "    pred = nn_OPT.predict(X[test_index])\n",
    "    print(\"Accuracy on Test data =\",accuracy_score(y[test_index], pred))\n",
    "    print(\"\\n\")"
   ]
  },
  {
   "cell_type": "code",
   "execution_count": 51,
   "metadata": {},
   "outputs": [
    {
     "name": "stdout",
     "output_type": "stream",
     "text": [
      "Accuracy on Training data = 0.9628657164291072\n",
      "Accuracy on Test data = 0.876311844077961\n",
      "\n",
      "\n",
      "Accuracy on Training data = 0.937007874015748\n",
      "Accuracy on Test data = 0.9437359339834959\n",
      "\n",
      "\n",
      "Accuracy on Training data = 0.9437570303712036\n",
      "Accuracy on Test data = 0.9399849962490623\n",
      "\n",
      "\n"
     ]
    }
   ],
   "source": [
    "# Non linear Activation function\n",
    "\n",
    "nn_non = MLPClassifier(activation='logistic')\n",
    "\n",
    "features = sample_nn_one_hot.columns.tolist()\n",
    "features.remove('population_density_categorical')\n",
    "\n",
    "kf1 = KFold(n_splits=3)\n",
    "kf1.get_n_splits(sample_nn_one_hot)\n",
    "X = np.array(sample_nn_one_hot[features])\n",
    "y = np.array(sample_nn_one_hot['population_density_categorical'])\n",
    "\n",
    "for train_index, test_index in kf1.split(X):\n",
    "    nn_non.fit(X[train_index],y[train_index])\n",
    "    pred = nn_non.predict(X[train_index])\n",
    "    print(\"Accuracy on Training data =\",accuracy_score(y[train_index], pred))\n",
    "    pred = nn_non.predict(X[test_index])\n",
    "    print(\"Accuracy on Test data =\",accuracy_score(y[test_index], pred))\n",
    "    print(\"\\n\")"
   ]
  },
  {
   "cell_type": "markdown",
   "metadata": {},
   "source": [
    "In order to turn numbers into insights, please comment on your findings. Motivate the answers to the following questions using the metrics and the findings in the questions 1 through 5 of the assignment."
   ]
  },
  {
   "cell_type": "markdown",
   "metadata": {},
   "source": [
    "   (b) What is, in your opinion, the best model? Motivate your answer with the correct performance metrics."
   ]
  },
  {
   "cell_type": "markdown",
   "metadata": {},
   "source": [
    "Explanation:\n",
    "\n",
    "Neural network with non-linear activation function is the best model as it provides the best accuracy consitently on test data as well as training data on all the 3-fold validation.\n",
    "\n",
    "Optimized neural network with linear activation function was the next best as it gave consistently around 85-90% on test and training data.\n",
    "\n",
    "SVM performed moderately with around 50% accuracy."
   ]
  },
  {
   "cell_type": "markdown",
   "metadata": {},
   "source": [
    "   (c) Does any model suffer from underfitting or overfitting? Motivate your answer with the correct performance metrics."
   ]
  },
  {
   "cell_type": "markdown",
   "metadata": {},
   "source": [
    "Explanation:\n",
    "\n",
    "We see an underfit in SVM as we only obtain around 50% accuracy on the training data.\n",
    "\n",
    "We, do not see any underfit or overfit on the neural networks as we see accuracy around 90-95% on both training and test data."
   ]
  },
  {
   "cell_type": "markdown",
   "metadata": {},
   "source": [
    "   (d) What is the effect of employing cross validation, instead of simply holding our a certain percentage of examples as test/validation set? What are the advantages and disadvantages of cross validation?"
   ]
  },
  {
   "cell_type": "markdown",
   "metadata": {},
   "source": [
    "Explanation:\n",
    "\n",
    "By employing cross validation we can evaluate how each model performs on diferrent combinations of training and testing data. This is better than just randomly sampling testing and training data and evaluating just once as all data gets to behave as test data at least once in cross validation and hence we can verify the consistency of the model.\n",
    "\n",
    "Advantages: We can check the rigidity of the model on the entire data. \n",
    "\n",
    "Disadavatages: Has to be trained and tested k times. This increases computational time and cost."
   ]
  }
 ],
 "metadata": {
  "kernelspec": {
   "display_name": "Python 3",
   "language": "python",
   "name": "python3"
  },
  "language_info": {
   "codemirror_mode": {
    "name": "ipython",
    "version": 3
   },
   "file_extension": ".py",
   "mimetype": "text/x-python",
   "name": "python",
   "nbconvert_exporter": "python",
   "pygments_lexer": "ipython3",
   "version": "3.7.4"
  }
 },
 "nbformat": 4,
 "nbformat_minor": 2
}
